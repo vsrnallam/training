{
 "cells": [
  {
   "cell_type": "markdown",
   "metadata": {},
   "source": [
    "# Examining Animal Data\n",
    "## Pandas manipulation, merging, and plotting lab"
   ]
  },
  {
   "cell_type": "markdown",
   "metadata": {},
   "source": [
    "- Import your libraries (Pandas and NumPy) \n",
    "- Import the code as two Data Frames: \"intakes\" and \"outcomes\"\n",
    "- Take a look at the data (dtypes, length, size, head, tail, describe)"
   ]
  },
  {
   "cell_type": "code",
   "execution_count": 32,
   "metadata": {
    "collapsed": false
   },
   "outputs": [],
   "source": [
    "import pandas as pd\n",
    "import numpy as np\n",
    "import matplotlib.pyplot as plt\n",
    "%matplotlib inline\n",
    "\n",
    "intakes = pd.read_csv('../assets/austin_animal_intakes_15.csv')\n",
    "outcomes = pd.read_csv('../assets/austin_animal_outcomes_15.csv')"
   ]
  },
  {
   "cell_type": "code",
   "execution_count": 33,
   "metadata": {
    "collapsed": false
   },
   "outputs": [
    {
     "data": {
      "text/plain": [
       "Animal ID           object\n",
       "Name                object\n",
       "Intake Date         object\n",
       "Intake Time         object\n",
       "Found Location      object\n",
       "Intake Type         object\n",
       "Intake Condition    object\n",
       "Animal Type         object\n",
       "Sex upon Intake     object\n",
       "Age upon Intake     object\n",
       "Breed               object\n",
       "Color               object\n",
       "dtype: object"
      ]
     },
     "execution_count": 33,
     "metadata": {},
     "output_type": "execute_result"
    }
   ],
   "source": [
    "intakes.dtypes"
   ]
  },
  {
   "cell_type": "code",
   "execution_count": 34,
   "metadata": {
    "collapsed": false
   },
   "outputs": [
    {
     "data": {
      "text/plain": [
       "Animal ID           object\n",
       "Name                object\n",
       "Outcome Date        object\n",
       "Outcome Time        object\n",
       "Outcome Type        object\n",
       "Outcome Subtype     object\n",
       "Animal Type         object\n",
       "Sex upon Outcome    object\n",
       "Age upon Outcome    object\n",
       "Breed               object\n",
       "Color               object\n",
       "dtype: object"
      ]
     },
     "execution_count": 34,
     "metadata": {},
     "output_type": "execute_result"
    }
   ],
   "source": [
    "outcomes.dtypes"
   ]
  },
  {
   "cell_type": "code",
   "execution_count": 35,
   "metadata": {
    "collapsed": false
   },
   "outputs": [
    {
     "data": {
      "text/plain": [
       "18627"
      ]
     },
     "execution_count": 35,
     "metadata": {},
     "output_type": "execute_result"
    }
   ],
   "source": [
    "len(intakes)"
   ]
  },
  {
   "cell_type": "code",
   "execution_count": 36,
   "metadata": {
    "collapsed": false
   },
   "outputs": [
    {
     "data": {
      "text/plain": [
       "18447"
      ]
     },
     "execution_count": 36,
     "metadata": {},
     "output_type": "execute_result"
    }
   ],
   "source": [
    "len(outcomes)"
   ]
  },
  {
   "cell_type": "code",
   "execution_count": 37,
   "metadata": {
    "collapsed": false
   },
   "outputs": [
    {
     "data": {
      "text/html": [
       "<div>\n",
       "<table border=\"1\" class=\"dataframe\">\n",
       "  <thead>\n",
       "    <tr style=\"text-align: right;\">\n",
       "      <th></th>\n",
       "      <th>Animal ID</th>\n",
       "      <th>Name</th>\n",
       "      <th>Intake Date</th>\n",
       "      <th>Intake Time</th>\n",
       "      <th>Found Location</th>\n",
       "      <th>Intake Type</th>\n",
       "      <th>Intake Condition</th>\n",
       "      <th>Animal Type</th>\n",
       "      <th>Sex upon Intake</th>\n",
       "      <th>Age upon Intake</th>\n",
       "      <th>Breed</th>\n",
       "      <th>Color</th>\n",
       "    </tr>\n",
       "  </thead>\n",
       "  <tbody>\n",
       "    <tr>\n",
       "      <th>0</th>\n",
       "      <td>A689228</td>\n",
       "      <td>Louie</td>\n",
       "      <td>10/01/14</td>\n",
       "      <td>7:21AM</td>\n",
       "      <td>3005 S. Lamar in Austin (TX)</td>\n",
       "      <td>Stray</td>\n",
       "      <td>Normal</td>\n",
       "      <td>Dog</td>\n",
       "      <td>Intact Male</td>\n",
       "      <td>4 months</td>\n",
       "      <td>Dachshund/Chihuahua Shorthair</td>\n",
       "      <td>Sable/Tan</td>\n",
       "    </tr>\n",
       "    <tr>\n",
       "      <th>1</th>\n",
       "      <td>A689234</td>\n",
       "      <td>NaN</td>\n",
       "      <td>10/01/14</td>\n",
       "      <td>8:44AM</td>\n",
       "      <td>Travis (TX)</td>\n",
       "      <td>Stray</td>\n",
       "      <td>Nursing</td>\n",
       "      <td>Dog</td>\n",
       "      <td>Unknown</td>\n",
       "      <td>0 years</td>\n",
       "      <td>Labrador Retriever Mix</td>\n",
       "      <td>Brown/Black</td>\n",
       "    </tr>\n",
       "    <tr>\n",
       "      <th>2</th>\n",
       "      <td>A689239</td>\n",
       "      <td>NaN</td>\n",
       "      <td>10/01/14</td>\n",
       "      <td>8:44AM</td>\n",
       "      <td>Travis (TX)</td>\n",
       "      <td>Stray</td>\n",
       "      <td>Nursing</td>\n",
       "      <td>Dog</td>\n",
       "      <td>Unknown</td>\n",
       "      <td>0 years</td>\n",
       "      <td>Labrador Retriever Mix</td>\n",
       "      <td>Sable</td>\n",
       "    </tr>\n",
       "    <tr>\n",
       "      <th>3</th>\n",
       "      <td>A689237</td>\n",
       "      <td>NaN</td>\n",
       "      <td>10/01/14</td>\n",
       "      <td>8:44AM</td>\n",
       "      <td>Travis (TX)</td>\n",
       "      <td>Stray</td>\n",
       "      <td>Nursing</td>\n",
       "      <td>Dog</td>\n",
       "      <td>Unknown</td>\n",
       "      <td>0 years</td>\n",
       "      <td>Labrador Retriever Mix</td>\n",
       "      <td>Black/Brown</td>\n",
       "    </tr>\n",
       "    <tr>\n",
       "      <th>4</th>\n",
       "      <td>A689238</td>\n",
       "      <td>NaN</td>\n",
       "      <td>10/01/14</td>\n",
       "      <td>8:44AM</td>\n",
       "      <td>Travis (TX)</td>\n",
       "      <td>Stray</td>\n",
       "      <td>Nursing</td>\n",
       "      <td>Dog</td>\n",
       "      <td>Unknown</td>\n",
       "      <td>0 years</td>\n",
       "      <td>Labrador Retriever Mix</td>\n",
       "      <td>Sable/Brown</td>\n",
       "    </tr>\n",
       "  </tbody>\n",
       "</table>\n",
       "</div>"
      ],
      "text/plain": [
       "  Animal ID   Name Intake Date Intake Time                Found Location  \\\n",
       "0   A689228  Louie    10/01/14      7:21AM  3005 S. Lamar in Austin (TX)   \n",
       "1   A689234    NaN    10/01/14      8:44AM                   Travis (TX)   \n",
       "2   A689239    NaN    10/01/14      8:44AM                   Travis (TX)   \n",
       "3   A689237    NaN    10/01/14      8:44AM                   Travis (TX)   \n",
       "4   A689238    NaN    10/01/14      8:44AM                   Travis (TX)   \n",
       "\n",
       "  Intake Type Intake Condition Animal Type Sex upon Intake Age upon Intake  \\\n",
       "0       Stray           Normal         Dog     Intact Male        4 months   \n",
       "1       Stray          Nursing         Dog         Unknown         0 years   \n",
       "2       Stray          Nursing         Dog         Unknown         0 years   \n",
       "3       Stray          Nursing         Dog         Unknown         0 years   \n",
       "4       Stray          Nursing         Dog         Unknown         0 years   \n",
       "\n",
       "                           Breed        Color  \n",
       "0  Dachshund/Chihuahua Shorthair    Sable/Tan  \n",
       "1         Labrador Retriever Mix  Brown/Black  \n",
       "2         Labrador Retriever Mix        Sable  \n",
       "3         Labrador Retriever Mix  Black/Brown  \n",
       "4         Labrador Retriever Mix  Sable/Brown  "
      ]
     },
     "execution_count": 37,
     "metadata": {},
     "output_type": "execute_result"
    }
   ],
   "source": [
    "intakes.head()"
   ]
  },
  {
   "cell_type": "code",
   "execution_count": 38,
   "metadata": {
    "collapsed": false
   },
   "outputs": [
    {
     "data": {
      "text/html": [
       "<div>\n",
       "<table border=\"1\" class=\"dataframe\">\n",
       "  <thead>\n",
       "    <tr style=\"text-align: right;\">\n",
       "      <th></th>\n",
       "      <th>Animal ID</th>\n",
       "      <th>Name</th>\n",
       "      <th>Intake Date</th>\n",
       "      <th>Intake Time</th>\n",
       "      <th>Found Location</th>\n",
       "      <th>Intake Type</th>\n",
       "      <th>Intake Condition</th>\n",
       "      <th>Animal Type</th>\n",
       "      <th>Sex upon Intake</th>\n",
       "      <th>Age upon Intake</th>\n",
       "      <th>Breed</th>\n",
       "      <th>Color</th>\n",
       "    </tr>\n",
       "  </thead>\n",
       "  <tbody>\n",
       "    <tr>\n",
       "      <th>18622</th>\n",
       "      <td>A712970</td>\n",
       "      <td>NaN</td>\n",
       "      <td>09/30/15</td>\n",
       "      <td>5:42PM</td>\n",
       "      <td>Jamestown Dr &amp; Maine Dr in Austin (TX)</td>\n",
       "      <td>Stray</td>\n",
       "      <td>Normal</td>\n",
       "      <td>Dog</td>\n",
       "      <td>Intact Female</td>\n",
       "      <td>5 months</td>\n",
       "      <td>Chihuahua Shorthair Mix</td>\n",
       "      <td>Tricolor</td>\n",
       "    </tr>\n",
       "    <tr>\n",
       "      <th>18623</th>\n",
       "      <td>A712971</td>\n",
       "      <td>NaN</td>\n",
       "      <td>09/30/15</td>\n",
       "      <td>5:48PM</td>\n",
       "      <td>14517 Amy Francis St in Austin (TX)</td>\n",
       "      <td>Stray</td>\n",
       "      <td>Normal</td>\n",
       "      <td>Cat</td>\n",
       "      <td>Intact Female</td>\n",
       "      <td>3 years</td>\n",
       "      <td>Domestic Shorthair Mix</td>\n",
       "      <td>Torbie/White</td>\n",
       "    </tr>\n",
       "    <tr>\n",
       "      <th>18624</th>\n",
       "      <td>A712972</td>\n",
       "      <td>Julie</td>\n",
       "      <td>09/30/15</td>\n",
       "      <td>5:53PM</td>\n",
       "      <td>6911 Ih 35 in Austin (TX)</td>\n",
       "      <td>Stray</td>\n",
       "      <td>Normal</td>\n",
       "      <td>Dog</td>\n",
       "      <td>Spayed Female</td>\n",
       "      <td>5 years</td>\n",
       "      <td>Toy Poodle Mix</td>\n",
       "      <td>Cream</td>\n",
       "    </tr>\n",
       "    <tr>\n",
       "      <th>18625</th>\n",
       "      <td>A692521</td>\n",
       "      <td>Coby</td>\n",
       "      <td>09/30/15</td>\n",
       "      <td>6:13PM</td>\n",
       "      <td>1405 E 4Th St in Austin (TX)</td>\n",
       "      <td>Stray</td>\n",
       "      <td>Normal</td>\n",
       "      <td>Dog</td>\n",
       "      <td>Intact Male</td>\n",
       "      <td>1 year</td>\n",
       "      <td>Pit Bull Mix</td>\n",
       "      <td>Fawn/White</td>\n",
       "    </tr>\n",
       "    <tr>\n",
       "      <th>18626</th>\n",
       "      <td>A712944</td>\n",
       "      <td>Blue</td>\n",
       "      <td>09/30/15</td>\n",
       "      <td>6:59PM</td>\n",
       "      <td>Austin (TX)</td>\n",
       "      <td>Public Assist</td>\n",
       "      <td>Normal</td>\n",
       "      <td>Dog</td>\n",
       "      <td>Intact Male</td>\n",
       "      <td>6 months</td>\n",
       "      <td>Rottweiler Mix</td>\n",
       "      <td>Brown</td>\n",
       "    </tr>\n",
       "  </tbody>\n",
       "</table>\n",
       "</div>"
      ],
      "text/plain": [
       "      Animal ID   Name Intake Date Intake Time  \\\n",
       "18622   A712970    NaN    09/30/15      5:42PM   \n",
       "18623   A712971    NaN    09/30/15      5:48PM   \n",
       "18624   A712972  Julie    09/30/15      5:53PM   \n",
       "18625   A692521   Coby    09/30/15      6:13PM   \n",
       "18626   A712944   Blue    09/30/15      6:59PM   \n",
       "\n",
       "                               Found Location    Intake Type Intake Condition  \\\n",
       "18622  Jamestown Dr & Maine Dr in Austin (TX)          Stray           Normal   \n",
       "18623     14517 Amy Francis St in Austin (TX)          Stray           Normal   \n",
       "18624               6911 Ih 35 in Austin (TX)          Stray           Normal   \n",
       "18625            1405 E 4Th St in Austin (TX)          Stray           Normal   \n",
       "18626                             Austin (TX)  Public Assist           Normal   \n",
       "\n",
       "      Animal Type Sex upon Intake Age upon Intake                    Breed  \\\n",
       "18622         Dog   Intact Female        5 months  Chihuahua Shorthair Mix   \n",
       "18623         Cat   Intact Female         3 years   Domestic Shorthair Mix   \n",
       "18624         Dog   Spayed Female         5 years           Toy Poodle Mix   \n",
       "18625         Dog     Intact Male          1 year             Pit Bull Mix   \n",
       "18626         Dog     Intact Male        6 months           Rottweiler Mix   \n",
       "\n",
       "              Color  \n",
       "18622      Tricolor  \n",
       "18623  Torbie/White  \n",
       "18624         Cream  \n",
       "18625    Fawn/White  \n",
       "18626         Brown  "
      ]
     },
     "execution_count": 38,
     "metadata": {},
     "output_type": "execute_result"
    }
   ],
   "source": [
    "intakes.tail()"
   ]
  },
  {
   "cell_type": "code",
   "execution_count": 39,
   "metadata": {
    "collapsed": false
   },
   "outputs": [
    {
     "data": {
      "text/html": [
       "<div>\n",
       "<table border=\"1\" class=\"dataframe\">\n",
       "  <thead>\n",
       "    <tr style=\"text-align: right;\">\n",
       "      <th></th>\n",
       "      <th>Animal ID</th>\n",
       "      <th>Name</th>\n",
       "      <th>Outcome Date</th>\n",
       "      <th>Outcome Time</th>\n",
       "      <th>Outcome Type</th>\n",
       "      <th>Outcome Subtype</th>\n",
       "      <th>Animal Type</th>\n",
       "      <th>Sex upon Outcome</th>\n",
       "      <th>Age upon Outcome</th>\n",
       "      <th>Breed</th>\n",
       "      <th>Color</th>\n",
       "    </tr>\n",
       "  </thead>\n",
       "  <tbody>\n",
       "    <tr>\n",
       "      <th>0</th>\n",
       "      <td>A689146</td>\n",
       "      <td>NaN</td>\n",
       "      <td>10/01/14</td>\n",
       "      <td>7:54AM</td>\n",
       "      <td>Euthanasia</td>\n",
       "      <td>Rabies Risk</td>\n",
       "      <td>Cat</td>\n",
       "      <td>Intact Female</td>\n",
       "      <td>1 month</td>\n",
       "      <td>Domestic Shorthair Mix</td>\n",
       "      <td>Tortie/Calico</td>\n",
       "    </tr>\n",
       "    <tr>\n",
       "      <th>1</th>\n",
       "      <td>A689208</td>\n",
       "      <td>NaN</td>\n",
       "      <td>10/01/14</td>\n",
       "      <td>7:56AM</td>\n",
       "      <td>Euthanasia</td>\n",
       "      <td>Suffering</td>\n",
       "      <td>Cat</td>\n",
       "      <td>Neutered Male</td>\n",
       "      <td>2 years</td>\n",
       "      <td>Domestic Shorthair Mix</td>\n",
       "      <td>White/Brown Tabby</td>\n",
       "    </tr>\n",
       "    <tr>\n",
       "      <th>2</th>\n",
       "      <td>A689225</td>\n",
       "      <td>NaN</td>\n",
       "      <td>10/01/14</td>\n",
       "      <td>9:00AM</td>\n",
       "      <td>Transfer</td>\n",
       "      <td>SCRP</td>\n",
       "      <td>Cat</td>\n",
       "      <td>Intact Female</td>\n",
       "      <td>6 years</td>\n",
       "      <td>Domestic Medium Hair Mix</td>\n",
       "      <td>Brown Tabby</td>\n",
       "    </tr>\n",
       "    <tr>\n",
       "      <th>3</th>\n",
       "      <td>A689202</td>\n",
       "      <td>NaN</td>\n",
       "      <td>10/01/14</td>\n",
       "      <td>11:30AM</td>\n",
       "      <td>Euthanasia</td>\n",
       "      <td>Rabies Risk</td>\n",
       "      <td>Other</td>\n",
       "      <td>Unknown</td>\n",
       "      <td>6 months</td>\n",
       "      <td>Bat Mix</td>\n",
       "      <td>Gray</td>\n",
       "    </tr>\n",
       "    <tr>\n",
       "      <th>4</th>\n",
       "      <td>A684326</td>\n",
       "      <td>Kelvi</td>\n",
       "      <td>10/01/14</td>\n",
       "      <td>11:37AM</td>\n",
       "      <td>Adoption</td>\n",
       "      <td>NaN</td>\n",
       "      <td>Dog</td>\n",
       "      <td>Spayed Female</td>\n",
       "      <td>5 years</td>\n",
       "      <td>Border Collie Mix</td>\n",
       "      <td>Black/White</td>\n",
       "    </tr>\n",
       "  </tbody>\n",
       "</table>\n",
       "</div>"
      ],
      "text/plain": [
       "  Animal ID   Name Outcome Date Outcome Time Outcome Type Outcome Subtype  \\\n",
       "0   A689146    NaN     10/01/14       7:54AM   Euthanasia     Rabies Risk   \n",
       "1   A689208    NaN     10/01/14       7:56AM   Euthanasia       Suffering   \n",
       "2   A689225    NaN     10/01/14       9:00AM     Transfer            SCRP   \n",
       "3   A689202    NaN     10/01/14      11:30AM   Euthanasia     Rabies Risk   \n",
       "4   A684326  Kelvi     10/01/14      11:37AM     Adoption             NaN   \n",
       "\n",
       "  Animal Type Sex upon Outcome Age upon Outcome                     Breed  \\\n",
       "0         Cat    Intact Female          1 month    Domestic Shorthair Mix   \n",
       "1         Cat    Neutered Male          2 years    Domestic Shorthair Mix   \n",
       "2         Cat    Intact Female          6 years  Domestic Medium Hair Mix   \n",
       "3       Other          Unknown         6 months                   Bat Mix   \n",
       "4         Dog    Spayed Female          5 years         Border Collie Mix   \n",
       "\n",
       "               Color  \n",
       "0      Tortie/Calico  \n",
       "1  White/Brown Tabby  \n",
       "2        Brown Tabby  \n",
       "3               Gray  \n",
       "4        Black/White  "
      ]
     },
     "execution_count": 39,
     "metadata": {},
     "output_type": "execute_result"
    }
   ],
   "source": [
    "outcomes.head()"
   ]
  },
  {
   "cell_type": "code",
   "execution_count": 40,
   "metadata": {
    "collapsed": false
   },
   "outputs": [
    {
     "data": {
      "text/html": [
       "<div>\n",
       "<table border=\"1\" class=\"dataframe\">\n",
       "  <thead>\n",
       "    <tr style=\"text-align: right;\">\n",
       "      <th></th>\n",
       "      <th>Animal ID</th>\n",
       "      <th>Name</th>\n",
       "      <th>Outcome Date</th>\n",
       "      <th>Outcome Time</th>\n",
       "      <th>Outcome Type</th>\n",
       "      <th>Outcome Subtype</th>\n",
       "      <th>Animal Type</th>\n",
       "      <th>Sex upon Outcome</th>\n",
       "      <th>Age upon Outcome</th>\n",
       "      <th>Breed</th>\n",
       "      <th>Color</th>\n",
       "    </tr>\n",
       "  </thead>\n",
       "  <tbody>\n",
       "    <tr>\n",
       "      <th>18442</th>\n",
       "      <td>A711454</td>\n",
       "      <td>NaN</td>\n",
       "      <td>09/30/15</td>\n",
       "      <td>6:18PM</td>\n",
       "      <td>Adoption</td>\n",
       "      <td>NaN</td>\n",
       "      <td>Cat</td>\n",
       "      <td>Neutered Male</td>\n",
       "      <td>1 month</td>\n",
       "      <td>Domestic Medium Hair Mix</td>\n",
       "      <td>Orange Tabby/White</td>\n",
       "    </tr>\n",
       "    <tr>\n",
       "      <th>18443</th>\n",
       "      <td>A712651</td>\n",
       "      <td>NaN</td>\n",
       "      <td>09/30/15</td>\n",
       "      <td>6:30PM</td>\n",
       "      <td>Transfer</td>\n",
       "      <td>Partner</td>\n",
       "      <td>Dog</td>\n",
       "      <td>Spayed Female</td>\n",
       "      <td>4 years</td>\n",
       "      <td>Dachshund Mix</td>\n",
       "      <td>Blue Merle/Tan</td>\n",
       "    </tr>\n",
       "    <tr>\n",
       "      <th>18444</th>\n",
       "      <td>A712652</td>\n",
       "      <td>NaN</td>\n",
       "      <td>09/30/15</td>\n",
       "      <td>6:30PM</td>\n",
       "      <td>Transfer</td>\n",
       "      <td>Partner</td>\n",
       "      <td>Dog</td>\n",
       "      <td>Spayed Female</td>\n",
       "      <td>4 years</td>\n",
       "      <td>Dachshund Mix</td>\n",
       "      <td>Black/Tan</td>\n",
       "    </tr>\n",
       "    <tr>\n",
       "      <th>18445</th>\n",
       "      <td>A712701</td>\n",
       "      <td>NaN</td>\n",
       "      <td>09/30/15</td>\n",
       "      <td>6:45PM</td>\n",
       "      <td>Adoption</td>\n",
       "      <td>NaN</td>\n",
       "      <td>Dog</td>\n",
       "      <td>Spayed Female</td>\n",
       "      <td>3 months</td>\n",
       "      <td>Chihuahua Shorthair Mix</td>\n",
       "      <td>Black Brindle</td>\n",
       "    </tr>\n",
       "    <tr>\n",
       "      <th>18446</th>\n",
       "      <td>A707975</td>\n",
       "      <td>NaN</td>\n",
       "      <td>09/30/15</td>\n",
       "      <td>6:54PM</td>\n",
       "      <td>Adoption</td>\n",
       "      <td>NaN</td>\n",
       "      <td>Cat</td>\n",
       "      <td>Neutered Male</td>\n",
       "      <td>3 months</td>\n",
       "      <td>Domestic Shorthair Mix</td>\n",
       "      <td>Blue/White</td>\n",
       "    </tr>\n",
       "  </tbody>\n",
       "</table>\n",
       "</div>"
      ],
      "text/plain": [
       "      Animal ID Name Outcome Date Outcome Time Outcome Type Outcome Subtype  \\\n",
       "18442   A711454  NaN     09/30/15       6:18PM     Adoption             NaN   \n",
       "18443   A712651  NaN     09/30/15       6:30PM     Transfer         Partner   \n",
       "18444   A712652  NaN     09/30/15       6:30PM     Transfer         Partner   \n",
       "18445   A712701  NaN     09/30/15       6:45PM     Adoption             NaN   \n",
       "18446   A707975  NaN     09/30/15       6:54PM     Adoption             NaN   \n",
       "\n",
       "      Animal Type Sex upon Outcome Age upon Outcome                     Breed  \\\n",
       "18442         Cat    Neutered Male          1 month  Domestic Medium Hair Mix   \n",
       "18443         Dog    Spayed Female          4 years             Dachshund Mix   \n",
       "18444         Dog    Spayed Female          4 years             Dachshund Mix   \n",
       "18445         Dog    Spayed Female         3 months   Chihuahua Shorthair Mix   \n",
       "18446         Cat    Neutered Male         3 months    Domestic Shorthair Mix   \n",
       "\n",
       "                    Color  \n",
       "18442  Orange Tabby/White  \n",
       "18443      Blue Merle/Tan  \n",
       "18444           Black/Tan  \n",
       "18445       Black Brindle  \n",
       "18446          Blue/White  "
      ]
     },
     "execution_count": 40,
     "metadata": {},
     "output_type": "execute_result"
    }
   ],
   "source": [
    "outcomes.tail()"
   ]
  },
  {
   "cell_type": "code",
   "execution_count": 41,
   "metadata": {
    "collapsed": false
   },
   "outputs": [
    {
     "data": {
      "text/html": [
       "<div>\n",
       "<table border=\"1\" class=\"dataframe\">\n",
       "  <thead>\n",
       "    <tr style=\"text-align: right;\">\n",
       "      <th></th>\n",
       "      <th>Animal ID</th>\n",
       "      <th>Name</th>\n",
       "      <th>Intake Date</th>\n",
       "      <th>Intake Time</th>\n",
       "      <th>Found Location</th>\n",
       "      <th>Intake Type</th>\n",
       "      <th>Intake Condition</th>\n",
       "      <th>Animal Type</th>\n",
       "      <th>Sex upon Intake</th>\n",
       "      <th>Age upon Intake</th>\n",
       "      <th>Breed</th>\n",
       "      <th>Color</th>\n",
       "    </tr>\n",
       "  </thead>\n",
       "  <tbody>\n",
       "    <tr>\n",
       "      <th>count</th>\n",
       "      <td>18627</td>\n",
       "      <td>12891</td>\n",
       "      <td>18627</td>\n",
       "      <td>18627</td>\n",
       "      <td>18627</td>\n",
       "      <td>18627</td>\n",
       "      <td>18627</td>\n",
       "      <td>18627</td>\n",
       "      <td>18627</td>\n",
       "      <td>18627</td>\n",
       "      <td>18627</td>\n",
       "      <td>18627</td>\n",
       "    </tr>\n",
       "    <tr>\n",
       "      <th>unique</th>\n",
       "      <td>17546</td>\n",
       "      <td>5759</td>\n",
       "      <td>365</td>\n",
       "      <td>1073</td>\n",
       "      <td>9561</td>\n",
       "      <td>33</td>\n",
       "      <td>18</td>\n",
       "      <td>9</td>\n",
       "      <td>10</td>\n",
       "      <td>49</td>\n",
       "      <td>1152</td>\n",
       "      <td>335</td>\n",
       "    </tr>\n",
       "    <tr>\n",
       "      <th>top</th>\n",
       "      <td>A704004</td>\n",
       "      <td>Bella</td>\n",
       "      <td>05/27/15</td>\n",
       "      <td>11:01AM</td>\n",
       "      <td>Austin (TX)</td>\n",
       "      <td>Stray</td>\n",
       "      <td>Normal</td>\n",
       "      <td>Dog</td>\n",
       "      <td>Intact Male</td>\n",
       "      <td>1 year</td>\n",
       "      <td>Domestic Shorthair Mix</td>\n",
       "      <td>Black/White</td>\n",
       "    </tr>\n",
       "    <tr>\n",
       "      <th>freq</th>\n",
       "      <td>5</td>\n",
       "      <td>85</td>\n",
       "      <td>118</td>\n",
       "      <td>114</td>\n",
       "      <td>3034</td>\n",
       "      <td>13509</td>\n",
       "      <td>16256</td>\n",
       "      <td>10394</td>\n",
       "      <td>5805</td>\n",
       "      <td>2985</td>\n",
       "      <td>5849</td>\n",
       "      <td>1965</td>\n",
       "    </tr>\n",
       "  </tbody>\n",
       "</table>\n",
       "</div>"
      ],
      "text/plain": [
       "       Animal ID   Name Intake Date Intake Time Found Location Intake Type  \\\n",
       "count      18627  12891       18627       18627          18627       18627   \n",
       "unique     17546   5759         365        1073           9561          33   \n",
       "top      A704004  Bella    05/27/15     11:01AM    Austin (TX)       Stray   \n",
       "freq           5     85         118         114           3034       13509   \n",
       "\n",
       "       Intake Condition Animal Type Sex upon Intake Age upon Intake  \\\n",
       "count             18627       18627           18627           18627   \n",
       "unique               18           9              10              49   \n",
       "top              Normal         Dog     Intact Male          1 year   \n",
       "freq              16256       10394            5805            2985   \n",
       "\n",
       "                         Breed        Color  \n",
       "count                    18627        18627  \n",
       "unique                    1152          335  \n",
       "top     Domestic Shorthair Mix  Black/White  \n",
       "freq                      5849         1965  "
      ]
     },
     "execution_count": 41,
     "metadata": {},
     "output_type": "execute_result"
    }
   ],
   "source": [
    "intakes.describe()"
   ]
  },
  {
   "cell_type": "code",
   "execution_count": 42,
   "metadata": {
    "collapsed": false
   },
   "outputs": [
    {
     "data": {
      "text/html": [
       "<div>\n",
       "<table border=\"1\" class=\"dataframe\">\n",
       "  <thead>\n",
       "    <tr style=\"text-align: right;\">\n",
       "      <th></th>\n",
       "      <th>Animal ID</th>\n",
       "      <th>Name</th>\n",
       "      <th>Outcome Date</th>\n",
       "      <th>Outcome Time</th>\n",
       "      <th>Outcome Type</th>\n",
       "      <th>Outcome Subtype</th>\n",
       "      <th>Animal Type</th>\n",
       "      <th>Sex upon Outcome</th>\n",
       "      <th>Age upon Outcome</th>\n",
       "      <th>Breed</th>\n",
       "      <th>Color</th>\n",
       "    </tr>\n",
       "  </thead>\n",
       "  <tbody>\n",
       "    <tr>\n",
       "      <th>count</th>\n",
       "      <td>18447</td>\n",
       "      <td>12725</td>\n",
       "      <td>18447</td>\n",
       "      <td>18447</td>\n",
       "      <td>18447</td>\n",
       "      <td>9020</td>\n",
       "      <td>18447</td>\n",
       "      <td>18447</td>\n",
       "      <td>18447</td>\n",
       "      <td>18447</td>\n",
       "      <td>18447</td>\n",
       "    </tr>\n",
       "    <tr>\n",
       "      <th>unique</th>\n",
       "      <td>17358</td>\n",
       "      <td>5635</td>\n",
       "      <td>365</td>\n",
       "      <td>815</td>\n",
       "      <td>8</td>\n",
       "      <td>18</td>\n",
       "      <td>5</td>\n",
       "      <td>5</td>\n",
       "      <td>43</td>\n",
       "      <td>1141</td>\n",
       "      <td>307</td>\n",
       "    </tr>\n",
       "    <tr>\n",
       "      <th>top</th>\n",
       "      <td>A707114</td>\n",
       "      <td>Bella</td>\n",
       "      <td>07/18/15</td>\n",
       "      <td>9:00AM</td>\n",
       "      <td>Adoption</td>\n",
       "      <td>Partner</td>\n",
       "      <td>Dog</td>\n",
       "      <td>Neutered Male</td>\n",
       "      <td>1 year</td>\n",
       "      <td>Domestic Shorthair Mix</td>\n",
       "      <td>Black/White</td>\n",
       "    </tr>\n",
       "    <tr>\n",
       "      <th>freq</th>\n",
       "      <td>5</td>\n",
       "      <td>82</td>\n",
       "      <td>151</td>\n",
       "      <td>995</td>\n",
       "      <td>7235</td>\n",
       "      <td>4954</td>\n",
       "      <td>10484</td>\n",
       "      <td>6473</td>\n",
       "      <td>3045</td>\n",
       "      <td>5661</td>\n",
       "      <td>1962</td>\n",
       "    </tr>\n",
       "  </tbody>\n",
       "</table>\n",
       "</div>"
      ],
      "text/plain": [
       "       Animal ID   Name Outcome Date Outcome Time Outcome Type  \\\n",
       "count      18447  12725        18447        18447        18447   \n",
       "unique     17358   5635          365          815            8   \n",
       "top      A707114  Bella     07/18/15       9:00AM     Adoption   \n",
       "freq           5     82          151          995         7235   \n",
       "\n",
       "       Outcome Subtype Animal Type Sex upon Outcome Age upon Outcome  \\\n",
       "count             9020       18447            18447            18447   \n",
       "unique              18           5                5               43   \n",
       "top            Partner         Dog    Neutered Male           1 year   \n",
       "freq              4954       10484             6473             3045   \n",
       "\n",
       "                         Breed        Color  \n",
       "count                    18447        18447  \n",
       "unique                    1141          307  \n",
       "top     Domestic Shorthair Mix  Black/White  \n",
       "freq                      5661         1962  "
      ]
     },
     "execution_count": 42,
     "metadata": {},
     "output_type": "execute_result"
    }
   ],
   "source": [
    "outcomes.describe()"
   ]
  },
  {
   "cell_type": "markdown",
   "metadata": {},
   "source": [
    "## Part 1: Tidying Data\n",
    "- Handle null values (You can drop, fill, etc., but make sure you make a comment explaining your choice)"
   ]
  },
  {
   "cell_type": "code",
   "execution_count": 43,
   "metadata": {
    "collapsed": false
   },
   "outputs": [],
   "source": [
    "intakes.isnull().sum()\n",
    "#Name is the only column with null values\n",
    "#Since this is not statistical, we can fill with \"None\"\n",
    "\n",
    "intakes.fillna('None', inplace=True)"
   ]
  },
  {
   "cell_type": "code",
   "execution_count": 44,
   "metadata": {
    "collapsed": false
   },
   "outputs": [],
   "source": [
    "outcomes.isnull().sum()\n",
    "#Name and Outcome Subtype have null values\n",
    "#Again, not statistical, so can fill with \"None\"\n",
    "\n",
    "outcomes.fillna('None', inplace=True)"
   ]
  },
  {
   "cell_type": "markdown",
   "metadata": {},
   "source": [
    "- Rename any columns that could make more sense (or need to be one word)"
   ]
  },
  {
   "cell_type": "code",
   "execution_count": 45,
   "metadata": {
    "collapsed": false
   },
   "outputs": [
    {
     "data": {
      "text/plain": [
       "Index([u'Animal ID', u'Name', u'Intake Date', u'Intake Time',\n",
       "       u'Found Location', u'Intake Type', u'Intake Condition', u'Animal Type',\n",
       "       u'Sex upon Intake', u'Age upon Intake', u'Breed', u'Color'],\n",
       "      dtype='object')"
      ]
     },
     "execution_count": 45,
     "metadata": {},
     "output_type": "execute_result"
    }
   ],
   "source": [
    "intakes.columns"
   ]
  },
  {
   "cell_type": "code",
   "execution_count": 46,
   "metadata": {
    "collapsed": false
   },
   "outputs": [],
   "source": [
    "intakes.rename(columns={'Animal ID':'id', 'Intake Date':'date', 'Intake Time':'time', 'Found Location':'found_loc',\n",
    "               'Intake Type':'type', 'Intake Condition':'condition', 'Animal Type':'animal_type', 'Sex upon Intake':'sex', \n",
    "                'Age upon Intake':'age'}, inplace=True)"
   ]
  },
  {
   "cell_type": "code",
   "execution_count": 47,
   "metadata": {
    "collapsed": false
   },
   "outputs": [
    {
     "data": {
      "text/plain": [
       "Index([u'Animal ID', u'Name', u'Outcome Date', u'Outcome Time',\n",
       "       u'Outcome Type', u'Outcome Subtype', u'Animal Type',\n",
       "       u'Sex upon Outcome', u'Age upon Outcome', u'Breed', u'Color'],\n",
       "      dtype='object')"
      ]
     },
     "execution_count": 47,
     "metadata": {},
     "output_type": "execute_result"
    }
   ],
   "source": [
    "outcomes.columns"
   ]
  },
  {
   "cell_type": "code",
   "execution_count": 48,
   "metadata": {
    "collapsed": true
   },
   "outputs": [],
   "source": [
    "outcomes.rename(columns={'Animal ID':'id', 'Outcome Date':'date', 'Outcome Time':'time',\n",
    "               'Outcome Type':'type', 'Outcome Subtype':'subtype', 'Animal Type':'animal_type', 'Sex upon Outcome':'sex', \n",
    "                'Age upon Outcome':'age'}, inplace=True)"
   ]
  },
  {
   "cell_type": "markdown",
   "metadata": {},
   "source": [
    "- Group the date and time columns into a single column and convert it to datetime objects (check out pandas to_datetime function for this)"
   ]
  },
  {
   "cell_type": "code",
   "execution_count": 49,
   "metadata": {
    "collapsed": false
   },
   "outputs": [],
   "source": [
    "intakes['datetime'] = pd.to_datetime(intakes.date + ' ' + intakes.time)"
   ]
  },
  {
   "cell_type": "code",
   "execution_count": 50,
   "metadata": {
    "collapsed": false
   },
   "outputs": [],
   "source": [
    "outcomes['datetime'] = pd.to_datetime(outcomes.date + ' ' + outcomes.time)"
   ]
  },
  {
   "cell_type": "code",
   "execution_count": 51,
   "metadata": {
    "collapsed": false
   },
   "outputs": [],
   "source": [
    "intakes.drop('date', axis=1, inplace=True)\n",
    "intakes.drop('time', axis=1, inplace=True)\n",
    "outcomes.drop('date', axis=1, inplace=True)\n",
    "outcomes.drop('time', axis=1, inplace=True)"
   ]
  },
  {
   "cell_type": "markdown",
   "metadata": {},
   "source": [
    "- Convert the data types of any columns in each data frame that should be different"
   ]
  },
  {
   "cell_type": "code",
   "execution_count": 52,
   "metadata": {
    "collapsed": false
   },
   "outputs": [
    {
     "data": {
      "text/plain": [
       "id                     object\n",
       "Name                   object\n",
       "type                   object\n",
       "subtype                object\n",
       "animal_type            object\n",
       "sex                    object\n",
       "age                    object\n",
       "Breed                  object\n",
       "Color                  object\n",
       "datetime       datetime64[ns]\n",
       "dtype: object"
      ]
     },
     "execution_count": 52,
     "metadata": {},
     "output_type": "execute_result"
    }
   ],
   "source": [
    "intakes.dtypes\n",
    "outcomes.dtypes\n",
    "#All other data types look correct, unless we wanted to make age numeric"
   ]
  },
  {
   "cell_type": "markdown",
   "metadata": {},
   "source": [
    "- Change the values in the breed and color columns into lists (Reword to indicate that lists mess up drop_duplicates, or move this task to later in lab)"
   ]
  },
  {
   "cell_type": "code",
   "execution_count": 57,
   "metadata": {
    "collapsed": false
   },
   "outputs": [],
   "source": [
    "def makelist(x):\n",
    "    return str(x.split('/'))\n",
    "    \n",
    "intakes.Breed = intakes.Breed.apply(makelist)\n",
    "intakes.Color = intakes.Color.apply(makelist)\n",
    "outcomes.Breed = outcomes.Breed.apply(makelist)\n",
    "outcomes.Color = outcomes.Color.apply(makelist)"
   ]
  },
  {
   "cell_type": "markdown",
   "metadata": {},
   "source": [
    "## Part 2: Assemble Descriptive Data"
   ]
  },
  {
   "cell_type": "markdown",
   "metadata": {},
   "source": [
    "- Make a data frame with all of the permanent descriptive data (animal id, name, animal type, breed, color) from each Data Frame \n",
    "- Consider: What is the best way to include data from both data frames? Merge/Join/Concatenate? How?"
   ]
  },
  {
   "cell_type": "code",
   "execution_count": 60,
   "metadata": {
    "collapsed": false
   },
   "outputs": [
    {
     "name": "stdout",
     "output_type": "stream",
     "text": [
      "37074\n"
     ]
    }
   ],
   "source": [
    "features = ['id','Name','animal_type','Breed','Color']\n",
    "intakes_descrip = intakes[features]\n",
    "outcomes_descrip = outcomes[features]\n",
    "\n",
    "descrip = pd.concat([intakes_descrip, outcomes_descrip])\n",
    "#We concatenate here because we're not trying to add any new data to existing rows, we're just sticking the data frames together\n",
    "print len(descrip)"
   ]
  },
  {
   "cell_type": "markdown",
   "metadata": {},
   "source": [
    "### Brief detour into merging clarification"
   ]
  },
  {
   "cell_type": "code",
   "execution_count": 896,
   "metadata": {
    "collapsed": false
   },
   "outputs": [
    {
     "data": {
      "text/html": [
       "<div>\n",
       "<table border=\"1\" class=\"dataframe\">\n",
       "  <thead>\n",
       "    <tr style=\"text-align: right;\">\n",
       "      <th></th>\n",
       "      <th>name</th>\n",
       "    </tr>\n",
       "    <tr>\n",
       "      <th>code</th>\n",
       "      <th></th>\n",
       "    </tr>\n",
       "  </thead>\n",
       "  <tbody>\n",
       "    <tr>\n",
       "      <th>A</th>\n",
       "      <td>Bob</td>\n",
       "    </tr>\n",
       "    <tr>\n",
       "      <th>B</th>\n",
       "      <td>Sam</td>\n",
       "    </tr>\n",
       "  </tbody>\n",
       "</table>\n",
       "</div>"
      ],
      "text/plain": [
       "     name\n",
       "code     \n",
       "A     Bob\n",
       "B     Sam"
      ]
     },
     "execution_count": 896,
     "metadata": {},
     "output_type": "execute_result"
    }
   ],
   "source": [
    "Left = pd.DataFrame([['A','B'],['Bob','Sam']], index=['code','name']).transpose()\n",
    "Right = pd.DataFrame([['A','B'],['Bob','Joe']], index=['code','name']).transpose()\n",
    "\n",
    "Left.set_index('code')"
   ]
  },
  {
   "cell_type": "code",
   "execution_count": 897,
   "metadata": {
    "collapsed": false
   },
   "outputs": [
    {
     "data": {
      "text/html": [
       "<div>\n",
       "<table border=\"1\" class=\"dataframe\">\n",
       "  <thead>\n",
       "    <tr style=\"text-align: right;\">\n",
       "      <th></th>\n",
       "      <th>name</th>\n",
       "    </tr>\n",
       "    <tr>\n",
       "      <th>code</th>\n",
       "      <th></th>\n",
       "    </tr>\n",
       "  </thead>\n",
       "  <tbody>\n",
       "    <tr>\n",
       "      <th>A</th>\n",
       "      <td>Bob</td>\n",
       "    </tr>\n",
       "    <tr>\n",
       "      <th>B</th>\n",
       "      <td>Joe</td>\n",
       "    </tr>\n",
       "  </tbody>\n",
       "</table>\n",
       "</div>"
      ],
      "text/plain": [
       "     name\n",
       "code     \n",
       "A     Bob\n",
       "B     Joe"
      ]
     },
     "execution_count": 897,
     "metadata": {},
     "output_type": "execute_result"
    }
   ],
   "source": [
    "Right.set_index('code')"
   ]
  },
  {
   "cell_type": "code",
   "execution_count": 899,
   "metadata": {
    "collapsed": false
   },
   "outputs": [
    {
     "data": {
      "text/html": [
       "<div>\n",
       "<table border=\"1\" class=\"dataframe\">\n",
       "  <thead>\n",
       "    <tr style=\"text-align: right;\">\n",
       "      <th></th>\n",
       "      <th>code</th>\n",
       "      <th>name</th>\n",
       "    </tr>\n",
       "  </thead>\n",
       "  <tbody>\n",
       "    <tr>\n",
       "      <th>0</th>\n",
       "      <td>A</td>\n",
       "      <td>Bob</td>\n",
       "    </tr>\n",
       "  </tbody>\n",
       "</table>\n",
       "</div>"
      ],
      "text/plain": [
       "  code name\n",
       "0    A  Bob"
      ]
     },
     "execution_count": 899,
     "metadata": {},
     "output_type": "execute_result"
    }
   ],
   "source": [
    "Left.merge(Right, how='inner')"
   ]
  },
  {
   "cell_type": "markdown",
   "metadata": {},
   "source": [
    "- You should now have lots of duplicates. Use the pandas method [drop_duplicates](http://pandas.pydata.org/pandas-docs/version/0.17.1/generated/pandas.DataFrame.drop_duplicates.html) to remove them. (This will NOT work if you have lists as values in your data frame)"
   ]
  },
  {
   "cell_type": "code",
   "execution_count": 59,
   "metadata": {
    "collapsed": false
   },
   "outputs": [
    {
     "data": {
      "text/plain": [
       "id                     object\n",
       "Name                   object\n",
       "found_loc              object\n",
       "type                   object\n",
       "condition              object\n",
       "animal_type            object\n",
       "sex                    object\n",
       "age                    object\n",
       "Breed                  object\n",
       "Color                  object\n",
       "datetime       datetime64[ns]\n",
       "dtype: object"
      ]
     },
     "execution_count": 59,
     "metadata": {},
     "output_type": "execute_result"
    }
   ],
   "source": [
    "descrip.drop_duplicates(inplace=True)\n",
    "len(descrip)\n",
    "\n",
    "intakes.dtypes"
   ]
  },
  {
   "cell_type": "markdown",
   "metadata": {},
   "source": [
    " - Create a column with the sex (male, female, or unknown) for each animal (hint: choose one of the original data frames, simplify the sex column, and merge on animal id)"
   ]
  },
  {
   "cell_type": "code",
   "execution_count": 61,
   "metadata": {
    "collapsed": false
   },
   "outputs": [],
   "source": [
    "def get_sex(x):\n",
    "    if 'Male' in x:\n",
    "        return 'M'\n",
    "    elif 'Female' in x:\n",
    "        return 'F'\n",
    "    else:\n",
    "        return 0\n",
    "\n",
    "descrip['sex'] = intakes.sex.apply(get_sex)"
   ]
  },
  {
   "cell_type": "markdown",
   "metadata": {},
   "source": [
    "#### Challenge goal\n",
    "- Do you have any animals that have mismatched data? Handle this so every animal has a single row describing it. "
   ]
  },
  {
   "cell_type": "code",
   "execution_count": 62,
   "metadata": {
    "collapsed": false
   },
   "outputs": [
    {
     "data": {
      "text/html": [
       "<div>\n",
       "<table border=\"1\" class=\"dataframe\">\n",
       "  <thead>\n",
       "    <tr style=\"text-align: right;\">\n",
       "      <th></th>\n",
       "      <th>id</th>\n",
       "      <th>Name</th>\n",
       "      <th>animal_type</th>\n",
       "      <th>Breed</th>\n",
       "      <th>Color</th>\n",
       "      <th>sex</th>\n",
       "    </tr>\n",
       "  </thead>\n",
       "  <tbody>\n",
       "    <tr>\n",
       "      <th>0</th>\n",
       "      <td>A689228</td>\n",
       "      <td>Louie</td>\n",
       "      <td>Dog</td>\n",
       "      <td>['Dachshund', 'Chihuahua Shorthair']</td>\n",
       "      <td>['Sable', 'Tan']</td>\n",
       "      <td>M</td>\n",
       "    </tr>\n",
       "    <tr>\n",
       "      <th>1</th>\n",
       "      <td>A689234</td>\n",
       "      <td>None</td>\n",
       "      <td>Dog</td>\n",
       "      <td>['Labrador Retriever Mix']</td>\n",
       "      <td>['Brown', 'Black']</td>\n",
       "      <td>0</td>\n",
       "    </tr>\n",
       "    <tr>\n",
       "      <th>2</th>\n",
       "      <td>A689239</td>\n",
       "      <td>None</td>\n",
       "      <td>Dog</td>\n",
       "      <td>['Labrador Retriever Mix']</td>\n",
       "      <td>['Sable']</td>\n",
       "      <td>0</td>\n",
       "    </tr>\n",
       "    <tr>\n",
       "      <th>3</th>\n",
       "      <td>A689237</td>\n",
       "      <td>None</td>\n",
       "      <td>Dog</td>\n",
       "      <td>['Labrador Retriever Mix']</td>\n",
       "      <td>['Black', 'Brown']</td>\n",
       "      <td>0</td>\n",
       "    </tr>\n",
       "    <tr>\n",
       "      <th>4</th>\n",
       "      <td>A689238</td>\n",
       "      <td>None</td>\n",
       "      <td>Dog</td>\n",
       "      <td>['Labrador Retriever Mix']</td>\n",
       "      <td>['Sable', 'Brown']</td>\n",
       "      <td>0</td>\n",
       "    </tr>\n",
       "    <tr>\n",
       "      <th>5</th>\n",
       "      <td>A689235</td>\n",
       "      <td>None</td>\n",
       "      <td>Dog</td>\n",
       "      <td>['Labrador Retriever Mix']</td>\n",
       "      <td>['Black', 'White']</td>\n",
       "      <td>0</td>\n",
       "    </tr>\n",
       "    <tr>\n",
       "      <th>6</th>\n",
       "      <td>A689236</td>\n",
       "      <td>None</td>\n",
       "      <td>Dog</td>\n",
       "      <td>['Labrador Retriever Mix']</td>\n",
       "      <td>['Black', 'White']</td>\n",
       "      <td>0</td>\n",
       "    </tr>\n",
       "    <tr>\n",
       "      <th>7</th>\n",
       "      <td>A689241</td>\n",
       "      <td>Lady</td>\n",
       "      <td>Dog</td>\n",
       "      <td>['Labrador Retriever', 'Basset Hound']</td>\n",
       "      <td>['Black', 'White']</td>\n",
       "      <td>F</td>\n",
       "    </tr>\n",
       "    <tr>\n",
       "      <th>8</th>\n",
       "      <td>A688878</td>\n",
       "      <td>Jd</td>\n",
       "      <td>Cat</td>\n",
       "      <td>['Domestic Shorthair Mix']</td>\n",
       "      <td>['Brown Tabby']</td>\n",
       "      <td>M</td>\n",
       "    </tr>\n",
       "    <tr>\n",
       "      <th>9</th>\n",
       "      <td>A689243</td>\n",
       "      <td>Biela</td>\n",
       "      <td>Dog</td>\n",
       "      <td>['Dogue De Bordeaux Mix']</td>\n",
       "      <td>['Red']</td>\n",
       "      <td>F</td>\n",
       "    </tr>\n",
       "    <tr>\n",
       "      <th>10</th>\n",
       "      <td>A689253</td>\n",
       "      <td>Spider Man</td>\n",
       "      <td>Cat</td>\n",
       "      <td>['Domestic Shorthair Mix']</td>\n",
       "      <td>['Black']</td>\n",
       "      <td>M</td>\n",
       "    </tr>\n",
       "    <tr>\n",
       "      <th>11</th>\n",
       "      <td>A689246</td>\n",
       "      <td>Lori</td>\n",
       "      <td>Cat</td>\n",
       "      <td>['Domestic Shorthair Mix']</td>\n",
       "      <td>['Brown Tabby']</td>\n",
       "      <td>F</td>\n",
       "    </tr>\n",
       "    <tr>\n",
       "      <th>12</th>\n",
       "      <td>A689255</td>\n",
       "      <td>Spider Woman</td>\n",
       "      <td>Cat</td>\n",
       "      <td>['Domestic Shorthair Mix']</td>\n",
       "      <td>['Brown Tabby']</td>\n",
       "      <td>F</td>\n",
       "    </tr>\n",
       "    <tr>\n",
       "      <th>13</th>\n",
       "      <td>A689252</td>\n",
       "      <td>Emerald</td>\n",
       "      <td>Cat</td>\n",
       "      <td>['Domestic Longhair Mix']</td>\n",
       "      <td>['Torbie']</td>\n",
       "      <td>F</td>\n",
       "    </tr>\n",
       "    <tr>\n",
       "      <th>14</th>\n",
       "      <td>A689254</td>\n",
       "      <td>Amenia</td>\n",
       "      <td>Cat</td>\n",
       "      <td>['Domestic Shorthair Mix']</td>\n",
       "      <td>['Torbie']</td>\n",
       "      <td>F</td>\n",
       "    </tr>\n",
       "    <tr>\n",
       "      <th>15</th>\n",
       "      <td>A689244</td>\n",
       "      <td>Cass</td>\n",
       "      <td>Cat</td>\n",
       "      <td>['Maine Coon Mix']</td>\n",
       "      <td>['Torbie']</td>\n",
       "      <td>F</td>\n",
       "    </tr>\n",
       "    <tr>\n",
       "      <th>16</th>\n",
       "      <td>A673394</td>\n",
       "      <td>Maya</td>\n",
       "      <td>Dog</td>\n",
       "      <td>['Pit Bull Mix']</td>\n",
       "      <td>['Brown Brindle', 'White']</td>\n",
       "      <td>F</td>\n",
       "    </tr>\n",
       "    <tr>\n",
       "      <th>17</th>\n",
       "      <td>A689245</td>\n",
       "      <td>Nala</td>\n",
       "      <td>Dog</td>\n",
       "      <td>['Chihuahua Longhair Mix']</td>\n",
       "      <td>['White']</td>\n",
       "      <td>F</td>\n",
       "    </tr>\n",
       "    <tr>\n",
       "      <th>18</th>\n",
       "      <td>A689248</td>\n",
       "      <td>*Jack</td>\n",
       "      <td>Cat</td>\n",
       "      <td>['Domestic Shorthair Mix']</td>\n",
       "      <td>['Brown Tabby', 'White']</td>\n",
       "      <td>M</td>\n",
       "    </tr>\n",
       "    <tr>\n",
       "      <th>19</th>\n",
       "      <td>A689249</td>\n",
       "      <td>*Janet</td>\n",
       "      <td>Cat</td>\n",
       "      <td>['Domestic Shorthair Mix']</td>\n",
       "      <td>['Brown Tabby', 'White']</td>\n",
       "      <td>F</td>\n",
       "    </tr>\n",
       "    <tr>\n",
       "      <th>20</th>\n",
       "      <td>A689247</td>\n",
       "      <td>None</td>\n",
       "      <td>Cat</td>\n",
       "      <td>['Domestic Shorthair Mix']</td>\n",
       "      <td>['Calico']</td>\n",
       "      <td>F</td>\n",
       "    </tr>\n",
       "    <tr>\n",
       "      <th>21</th>\n",
       "      <td>A689250</td>\n",
       "      <td>*Chrissy</td>\n",
       "      <td>Cat</td>\n",
       "      <td>['Domestic Shorthair Mix']</td>\n",
       "      <td>['Brown Tabby']</td>\n",
       "      <td>F</td>\n",
       "    </tr>\n",
       "    <tr>\n",
       "      <th>22</th>\n",
       "      <td>A689251</td>\n",
       "      <td>Blue</td>\n",
       "      <td>Dog</td>\n",
       "      <td>['Pit Bull Mix']</td>\n",
       "      <td>['Blue', 'White']</td>\n",
       "      <td>M</td>\n",
       "    </tr>\n",
       "    <tr>\n",
       "      <th>23</th>\n",
       "      <td>A663846</td>\n",
       "      <td>Cj</td>\n",
       "      <td>Dog</td>\n",
       "      <td>['Chihuahua Longhair Mix']</td>\n",
       "      <td>['Buff']</td>\n",
       "      <td>M</td>\n",
       "    </tr>\n",
       "    <tr>\n",
       "      <th>24</th>\n",
       "      <td>A689265</td>\n",
       "      <td>Scratch</td>\n",
       "      <td>Cat</td>\n",
       "      <td>['Domestic Shorthair Mix']</td>\n",
       "      <td>['Calico', 'Black']</td>\n",
       "      <td>F</td>\n",
       "    </tr>\n",
       "    <tr>\n",
       "      <th>25</th>\n",
       "      <td>A689264</td>\n",
       "      <td>Monarch</td>\n",
       "      <td>Other</td>\n",
       "      <td>['Rex Mix']</td>\n",
       "      <td>['White', 'Black']</td>\n",
       "      <td>0</td>\n",
       "    </tr>\n",
       "    <tr>\n",
       "      <th>26</th>\n",
       "      <td>A689257</td>\n",
       "      <td>*Hailey</td>\n",
       "      <td>Dog</td>\n",
       "      <td>['Australian Cattle Dog Mix']</td>\n",
       "      <td>['White', 'Brown']</td>\n",
       "      <td>F</td>\n",
       "    </tr>\n",
       "    <tr>\n",
       "      <th>27</th>\n",
       "      <td>A689258</td>\n",
       "      <td>None</td>\n",
       "      <td>Cat</td>\n",
       "      <td>['Domestic Shorthair Mix']</td>\n",
       "      <td>['Black']</td>\n",
       "      <td>F</td>\n",
       "    </tr>\n",
       "    <tr>\n",
       "      <th>28</th>\n",
       "      <td>A689259</td>\n",
       "      <td>None</td>\n",
       "      <td>Cat</td>\n",
       "      <td>['Domestic Shorthair Mix']</td>\n",
       "      <td>['Brown Tabby']</td>\n",
       "      <td>M</td>\n",
       "    </tr>\n",
       "    <tr>\n",
       "      <th>29</th>\n",
       "      <td>A689262</td>\n",
       "      <td>Chavo</td>\n",
       "      <td>Stray</td>\n",
       "      <td>['Intact Male']</td>\n",
       "      <td>['1 year']</td>\n",
       "      <td>0</td>\n",
       "    </tr>\n",
       "    <tr>\n",
       "      <th>...</th>\n",
       "      <td>...</td>\n",
       "      <td>...</td>\n",
       "      <td>...</td>\n",
       "      <td>...</td>\n",
       "      <td>...</td>\n",
       "      <td>...</td>\n",
       "    </tr>\n",
       "    <tr>\n",
       "      <th>18417</th>\n",
       "      <td>A711733</td>\n",
       "      <td>*Orangesicle</td>\n",
       "      <td>Cat</td>\n",
       "      <td>['Domestic Medium Hair Mix']</td>\n",
       "      <td>['White', 'Orange Tabby']</td>\n",
       "      <td>M</td>\n",
       "    </tr>\n",
       "    <tr>\n",
       "      <th>18418</th>\n",
       "      <td>A711413</td>\n",
       "      <td>*Tina</td>\n",
       "      <td>Cat</td>\n",
       "      <td>['Domestic Shorthair Mix']</td>\n",
       "      <td>['Tortie']</td>\n",
       "      <td>F</td>\n",
       "    </tr>\n",
       "    <tr>\n",
       "      <th>18419</th>\n",
       "      <td>A712917</td>\n",
       "      <td>None</td>\n",
       "      <td>Dog</td>\n",
       "      <td>['Miniature Schnauzer Mix']</td>\n",
       "      <td>['Silver', 'White']</td>\n",
       "      <td>F</td>\n",
       "    </tr>\n",
       "    <tr>\n",
       "      <th>18420</th>\n",
       "      <td>A712519</td>\n",
       "      <td>None</td>\n",
       "      <td>Dog</td>\n",
       "      <td>['Chihuahua Longhair Mix']</td>\n",
       "      <td>['Tricolor']</td>\n",
       "      <td>M</td>\n",
       "    </tr>\n",
       "    <tr>\n",
       "      <th>18421</th>\n",
       "      <td>A712620</td>\n",
       "      <td>*Elf</td>\n",
       "      <td>Dog</td>\n",
       "      <td>['Chihuahua Shorthair Mix']</td>\n",
       "      <td>['Brown', 'White']</td>\n",
       "      <td>F</td>\n",
       "    </tr>\n",
       "    <tr>\n",
       "      <th>18422</th>\n",
       "      <td>A712802</td>\n",
       "      <td>Autumn</td>\n",
       "      <td>Dog</td>\n",
       "      <td>['Plott Hound Mix']</td>\n",
       "      <td>['Black Brindle', 'White']</td>\n",
       "      <td>F</td>\n",
       "    </tr>\n",
       "    <tr>\n",
       "      <th>18423</th>\n",
       "      <td>A637965</td>\n",
       "      <td>Poppies</td>\n",
       "      <td>Dog</td>\n",
       "      <td>['Chihuahua Shorthair Mix']</td>\n",
       "      <td>['Brown', 'Tan']</td>\n",
       "      <td>F</td>\n",
       "    </tr>\n",
       "    <tr>\n",
       "      <th>18424</th>\n",
       "      <td>A712876</td>\n",
       "      <td>None</td>\n",
       "      <td>Cat</td>\n",
       "      <td>['Domestic Shorthair Mix']</td>\n",
       "      <td>['Black']</td>\n",
       "      <td>M</td>\n",
       "    </tr>\n",
       "    <tr>\n",
       "      <th>18425</th>\n",
       "      <td>A712354</td>\n",
       "      <td>*Pearce</td>\n",
       "      <td>Dog</td>\n",
       "      <td>['German Shepherd Mix']</td>\n",
       "      <td>['White']</td>\n",
       "      <td>0</td>\n",
       "    </tr>\n",
       "    <tr>\n",
       "      <th>18426</th>\n",
       "      <td>A712913</td>\n",
       "      <td>Teemo</td>\n",
       "      <td>Dog</td>\n",
       "      <td>['Jack Russell Terrier', 'Border Collie']</td>\n",
       "      <td>['White', 'Tan']</td>\n",
       "      <td>M</td>\n",
       "    </tr>\n",
       "    <tr>\n",
       "      <th>18427</th>\n",
       "      <td>A711128</td>\n",
       "      <td>Amelia</td>\n",
       "      <td>Cat</td>\n",
       "      <td>['Domestic Medium Hair Mix']</td>\n",
       "      <td>['White']</td>\n",
       "      <td>F</td>\n",
       "    </tr>\n",
       "    <tr>\n",
       "      <th>18428</th>\n",
       "      <td>A711127</td>\n",
       "      <td>Maggie</td>\n",
       "      <td>Cat</td>\n",
       "      <td>['Domestic Medium Hair Mix']</td>\n",
       "      <td>['Black']</td>\n",
       "      <td>F</td>\n",
       "    </tr>\n",
       "    <tr>\n",
       "      <th>18429</th>\n",
       "      <td>A712800</td>\n",
       "      <td>Blake</td>\n",
       "      <td>Dog</td>\n",
       "      <td>['Labrador Retriever Mix']</td>\n",
       "      <td>['Buff']</td>\n",
       "      <td>M</td>\n",
       "    </tr>\n",
       "    <tr>\n",
       "      <th>18430</th>\n",
       "      <td>A712396</td>\n",
       "      <td>*Mario</td>\n",
       "      <td>Cat</td>\n",
       "      <td>['Domestic Longhair Mix']</td>\n",
       "      <td>['Brown Tabby', 'White']</td>\n",
       "      <td>F</td>\n",
       "    </tr>\n",
       "    <tr>\n",
       "      <th>18431</th>\n",
       "      <td>A712883</td>\n",
       "      <td>Salaria</td>\n",
       "      <td>Dog</td>\n",
       "      <td>['German Shepherd Mix']</td>\n",
       "      <td>['Black', 'Brown']</td>\n",
       "      <td>F</td>\n",
       "    </tr>\n",
       "    <tr>\n",
       "      <th>18432</th>\n",
       "      <td>A712884</td>\n",
       "      <td>Princess</td>\n",
       "      <td>Dog</td>\n",
       "      <td>['Chihuahua Shorthair']</td>\n",
       "      <td>['Black', 'Tan']</td>\n",
       "      <td>F</td>\n",
       "    </tr>\n",
       "    <tr>\n",
       "      <th>18433</th>\n",
       "      <td>A355753</td>\n",
       "      <td>Elijah</td>\n",
       "      <td>Dog</td>\n",
       "      <td>['Beagle Mix']</td>\n",
       "      <td>['Tricolor']</td>\n",
       "      <td>M</td>\n",
       "    </tr>\n",
       "    <tr>\n",
       "      <th>18434</th>\n",
       "      <td>A712648</td>\n",
       "      <td>Ace</td>\n",
       "      <td>Cat</td>\n",
       "      <td>['Domestic Medium Hair Mix']</td>\n",
       "      <td>['Black']</td>\n",
       "      <td>F</td>\n",
       "    </tr>\n",
       "    <tr>\n",
       "      <th>18435</th>\n",
       "      <td>A712655</td>\n",
       "      <td>*Morty</td>\n",
       "      <td>Cat</td>\n",
       "      <td>['Domestic Shorthair Mix']</td>\n",
       "      <td>['Orange Tabby']</td>\n",
       "      <td>M</td>\n",
       "    </tr>\n",
       "    <tr>\n",
       "      <th>18436</th>\n",
       "      <td>A712687</td>\n",
       "      <td>*Jules</td>\n",
       "      <td>Dog</td>\n",
       "      <td>['Dachshund Mix']</td>\n",
       "      <td>['Tricolor']</td>\n",
       "      <td>F</td>\n",
       "    </tr>\n",
       "    <tr>\n",
       "      <th>18437</th>\n",
       "      <td>A712645</td>\n",
       "      <td>None</td>\n",
       "      <td>Dog</td>\n",
       "      <td>['Dalmatian Mix']</td>\n",
       "      <td>['White', 'Black']</td>\n",
       "      <td>M</td>\n",
       "    </tr>\n",
       "    <tr>\n",
       "      <th>18438</th>\n",
       "      <td>A708791</td>\n",
       "      <td>Lily</td>\n",
       "      <td>Dog</td>\n",
       "      <td>['Staffordshire Mix']</td>\n",
       "      <td>['Blue', 'White']</td>\n",
       "      <td>0</td>\n",
       "    </tr>\n",
       "    <tr>\n",
       "      <th>18439</th>\n",
       "      <td>A712945</td>\n",
       "      <td>Candy</td>\n",
       "      <td>Dog</td>\n",
       "      <td>['Chihuahua Shorthair Mix']</td>\n",
       "      <td>['White', 'Tan']</td>\n",
       "      <td>F</td>\n",
       "    </tr>\n",
       "    <tr>\n",
       "      <th>18440</th>\n",
       "      <td>A712666</td>\n",
       "      <td>None</td>\n",
       "      <td>Dog</td>\n",
       "      <td>['Pit Bull Mix']</td>\n",
       "      <td>['Black', 'White']</td>\n",
       "      <td>F</td>\n",
       "    </tr>\n",
       "    <tr>\n",
       "      <th>18441</th>\n",
       "      <td>A711452</td>\n",
       "      <td>None</td>\n",
       "      <td>Cat</td>\n",
       "      <td>['Domestic Medium Hair Mix']</td>\n",
       "      <td>['Blue', 'White']</td>\n",
       "      <td>M</td>\n",
       "    </tr>\n",
       "    <tr>\n",
       "      <th>18442</th>\n",
       "      <td>A711454</td>\n",
       "      <td>None</td>\n",
       "      <td>Cat</td>\n",
       "      <td>['Domestic Medium Hair Mix']</td>\n",
       "      <td>['Orange Tabby', 'White']</td>\n",
       "      <td>M</td>\n",
       "    </tr>\n",
       "    <tr>\n",
       "      <th>18443</th>\n",
       "      <td>A712651</td>\n",
       "      <td>None</td>\n",
       "      <td>Dog</td>\n",
       "      <td>['Dachshund Mix']</td>\n",
       "      <td>['Blue Merle', 'Tan']</td>\n",
       "      <td>M</td>\n",
       "    </tr>\n",
       "    <tr>\n",
       "      <th>18444</th>\n",
       "      <td>A712652</td>\n",
       "      <td>None</td>\n",
       "      <td>Dog</td>\n",
       "      <td>['Dachshund Mix']</td>\n",
       "      <td>['Black', 'Tan']</td>\n",
       "      <td>0</td>\n",
       "    </tr>\n",
       "    <tr>\n",
       "      <th>18445</th>\n",
       "      <td>A712701</td>\n",
       "      <td>None</td>\n",
       "      <td>Dog</td>\n",
       "      <td>['Chihuahua Shorthair Mix']</td>\n",
       "      <td>['Black Brindle']</td>\n",
       "      <td>F</td>\n",
       "    </tr>\n",
       "    <tr>\n",
       "      <th>18446</th>\n",
       "      <td>A707975</td>\n",
       "      <td>None</td>\n",
       "      <td>Cat</td>\n",
       "      <td>['Domestic Shorthair Mix']</td>\n",
       "      <td>['Blue', 'White']</td>\n",
       "      <td>M</td>\n",
       "    </tr>\n",
       "  </tbody>\n",
       "</table>\n",
       "<p>35544 rows × 6 columns</p>\n",
       "</div>"
      ],
      "text/plain": [
       "            id          Name animal_type  \\\n",
       "0      A689228         Louie         Dog   \n",
       "1      A689234          None         Dog   \n",
       "2      A689239          None         Dog   \n",
       "3      A689237          None         Dog   \n",
       "4      A689238          None         Dog   \n",
       "5      A689235          None         Dog   \n",
       "6      A689236          None         Dog   \n",
       "7      A689241          Lady         Dog   \n",
       "8      A688878            Jd         Cat   \n",
       "9      A689243         Biela         Dog   \n",
       "10     A689253    Spider Man         Cat   \n",
       "11     A689246          Lori         Cat   \n",
       "12     A689255  Spider Woman         Cat   \n",
       "13     A689252       Emerald         Cat   \n",
       "14     A689254        Amenia         Cat   \n",
       "15     A689244          Cass         Cat   \n",
       "16     A673394          Maya         Dog   \n",
       "17     A689245          Nala         Dog   \n",
       "18     A689248         *Jack         Cat   \n",
       "19     A689249        *Janet         Cat   \n",
       "20     A689247          None         Cat   \n",
       "21     A689250      *Chrissy         Cat   \n",
       "22     A689251          Blue         Dog   \n",
       "23     A663846            Cj         Dog   \n",
       "24     A689265       Scratch         Cat   \n",
       "25     A689264       Monarch       Other   \n",
       "26     A689257       *Hailey         Dog   \n",
       "27     A689258          None         Cat   \n",
       "28     A689259          None         Cat   \n",
       "29     A689262         Chavo       Stray   \n",
       "...        ...           ...         ...   \n",
       "18417  A711733  *Orangesicle         Cat   \n",
       "18418  A711413         *Tina         Cat   \n",
       "18419  A712917          None         Dog   \n",
       "18420  A712519          None         Dog   \n",
       "18421  A712620          *Elf         Dog   \n",
       "18422  A712802        Autumn         Dog   \n",
       "18423  A637965       Poppies         Dog   \n",
       "18424  A712876          None         Cat   \n",
       "18425  A712354       *Pearce         Dog   \n",
       "18426  A712913         Teemo         Dog   \n",
       "18427  A711128        Amelia         Cat   \n",
       "18428  A711127        Maggie         Cat   \n",
       "18429  A712800         Blake         Dog   \n",
       "18430  A712396        *Mario         Cat   \n",
       "18431  A712883       Salaria         Dog   \n",
       "18432  A712884      Princess         Dog   \n",
       "18433  A355753        Elijah         Dog   \n",
       "18434  A712648           Ace         Cat   \n",
       "18435  A712655        *Morty         Cat   \n",
       "18436  A712687        *Jules         Dog   \n",
       "18437  A712645          None         Dog   \n",
       "18438  A708791          Lily         Dog   \n",
       "18439  A712945         Candy         Dog   \n",
       "18440  A712666          None         Dog   \n",
       "18441  A711452          None         Cat   \n",
       "18442  A711454          None         Cat   \n",
       "18443  A712651          None         Dog   \n",
       "18444  A712652          None         Dog   \n",
       "18445  A712701          None         Dog   \n",
       "18446  A707975          None         Cat   \n",
       "\n",
       "                                           Breed                       Color  \\\n",
       "0           ['Dachshund', 'Chihuahua Shorthair']            ['Sable', 'Tan']   \n",
       "1                     ['Labrador Retriever Mix']          ['Brown', 'Black']   \n",
       "2                     ['Labrador Retriever Mix']                   ['Sable']   \n",
       "3                     ['Labrador Retriever Mix']          ['Black', 'Brown']   \n",
       "4                     ['Labrador Retriever Mix']          ['Sable', 'Brown']   \n",
       "5                     ['Labrador Retriever Mix']          ['Black', 'White']   \n",
       "6                     ['Labrador Retriever Mix']          ['Black', 'White']   \n",
       "7         ['Labrador Retriever', 'Basset Hound']          ['Black', 'White']   \n",
       "8                     ['Domestic Shorthair Mix']             ['Brown Tabby']   \n",
       "9                      ['Dogue De Bordeaux Mix']                     ['Red']   \n",
       "10                    ['Domestic Shorthair Mix']                   ['Black']   \n",
       "11                    ['Domestic Shorthair Mix']             ['Brown Tabby']   \n",
       "12                    ['Domestic Shorthair Mix']             ['Brown Tabby']   \n",
       "13                     ['Domestic Longhair Mix']                  ['Torbie']   \n",
       "14                    ['Domestic Shorthair Mix']                  ['Torbie']   \n",
       "15                            ['Maine Coon Mix']                  ['Torbie']   \n",
       "16                              ['Pit Bull Mix']  ['Brown Brindle', 'White']   \n",
       "17                    ['Chihuahua Longhair Mix']                   ['White']   \n",
       "18                    ['Domestic Shorthair Mix']    ['Brown Tabby', 'White']   \n",
       "19                    ['Domestic Shorthair Mix']    ['Brown Tabby', 'White']   \n",
       "20                    ['Domestic Shorthair Mix']                  ['Calico']   \n",
       "21                    ['Domestic Shorthair Mix']             ['Brown Tabby']   \n",
       "22                              ['Pit Bull Mix']           ['Blue', 'White']   \n",
       "23                    ['Chihuahua Longhair Mix']                    ['Buff']   \n",
       "24                    ['Domestic Shorthair Mix']         ['Calico', 'Black']   \n",
       "25                                   ['Rex Mix']          ['White', 'Black']   \n",
       "26                 ['Australian Cattle Dog Mix']          ['White', 'Brown']   \n",
       "27                    ['Domestic Shorthair Mix']                   ['Black']   \n",
       "28                    ['Domestic Shorthair Mix']             ['Brown Tabby']   \n",
       "29                               ['Intact Male']                  ['1 year']   \n",
       "...                                          ...                         ...   \n",
       "18417               ['Domestic Medium Hair Mix']   ['White', 'Orange Tabby']   \n",
       "18418                 ['Domestic Shorthair Mix']                  ['Tortie']   \n",
       "18419                ['Miniature Schnauzer Mix']         ['Silver', 'White']   \n",
       "18420                 ['Chihuahua Longhair Mix']                ['Tricolor']   \n",
       "18421                ['Chihuahua Shorthair Mix']          ['Brown', 'White']   \n",
       "18422                        ['Plott Hound Mix']  ['Black Brindle', 'White']   \n",
       "18423                ['Chihuahua Shorthair Mix']            ['Brown', 'Tan']   \n",
       "18424                 ['Domestic Shorthair Mix']                   ['Black']   \n",
       "18425                    ['German Shepherd Mix']                   ['White']   \n",
       "18426  ['Jack Russell Terrier', 'Border Collie']            ['White', 'Tan']   \n",
       "18427               ['Domestic Medium Hair Mix']                   ['White']   \n",
       "18428               ['Domestic Medium Hair Mix']                   ['Black']   \n",
       "18429                 ['Labrador Retriever Mix']                    ['Buff']   \n",
       "18430                  ['Domestic Longhair Mix']    ['Brown Tabby', 'White']   \n",
       "18431                    ['German Shepherd Mix']          ['Black', 'Brown']   \n",
       "18432                    ['Chihuahua Shorthair']            ['Black', 'Tan']   \n",
       "18433                             ['Beagle Mix']                ['Tricolor']   \n",
       "18434               ['Domestic Medium Hair Mix']                   ['Black']   \n",
       "18435                 ['Domestic Shorthair Mix']            ['Orange Tabby']   \n",
       "18436                          ['Dachshund Mix']                ['Tricolor']   \n",
       "18437                          ['Dalmatian Mix']          ['White', 'Black']   \n",
       "18438                      ['Staffordshire Mix']           ['Blue', 'White']   \n",
       "18439                ['Chihuahua Shorthair Mix']            ['White', 'Tan']   \n",
       "18440                           ['Pit Bull Mix']          ['Black', 'White']   \n",
       "18441               ['Domestic Medium Hair Mix']           ['Blue', 'White']   \n",
       "18442               ['Domestic Medium Hair Mix']   ['Orange Tabby', 'White']   \n",
       "18443                          ['Dachshund Mix']       ['Blue Merle', 'Tan']   \n",
       "18444                          ['Dachshund Mix']            ['Black', 'Tan']   \n",
       "18445                ['Chihuahua Shorthair Mix']           ['Black Brindle']   \n",
       "18446                 ['Domestic Shorthair Mix']           ['Blue', 'White']   \n",
       "\n",
       "      sex  \n",
       "0       M  \n",
       "1       0  \n",
       "2       0  \n",
       "3       0  \n",
       "4       0  \n",
       "5       0  \n",
       "6       0  \n",
       "7       F  \n",
       "8       M  \n",
       "9       F  \n",
       "10      M  \n",
       "11      F  \n",
       "12      F  \n",
       "13      F  \n",
       "14      F  \n",
       "15      F  \n",
       "16      F  \n",
       "17      F  \n",
       "18      M  \n",
       "19      F  \n",
       "20      F  \n",
       "21      F  \n",
       "22      M  \n",
       "23      M  \n",
       "24      F  \n",
       "25      0  \n",
       "26      F  \n",
       "27      F  \n",
       "28      M  \n",
       "29      0  \n",
       "...    ..  \n",
       "18417   M  \n",
       "18418   F  \n",
       "18419   F  \n",
       "18420   M  \n",
       "18421   F  \n",
       "18422   F  \n",
       "18423   F  \n",
       "18424   M  \n",
       "18425   0  \n",
       "18426   M  \n",
       "18427   F  \n",
       "18428   F  \n",
       "18429   M  \n",
       "18430   F  \n",
       "18431   F  \n",
       "18432   F  \n",
       "18433   M  \n",
       "18434   F  \n",
       "18435   M  \n",
       "18436   F  \n",
       "18437   M  \n",
       "18438   0  \n",
       "18439   F  \n",
       "18440   F  \n",
       "18441   M  \n",
       "18442   M  \n",
       "18443   M  \n",
       "18444   0  \n",
       "18445   F  \n",
       "18446   M  \n",
       "\n",
       "[35544 rows x 6 columns]"
      ]
     },
     "execution_count": 62,
     "metadata": {},
     "output_type": "execute_result"
    }
   ],
   "source": [
    "#Examine the data frame to see what happened with these duplicated animals\n",
    "\n",
    "#Get a list of the counts for each id's occurence\n",
    "counts = descrip.id.value_counts()\n",
    "\n",
    "#Make a list of the ids that have duplicate appearances\n",
    "duplicates = counts[counts > 1].index.tolist()\n",
    "\n",
    "#Make a data frame dedicated to the duplicate rows\n",
    "dup_df = descrip[descrip['id'].isin(duplicates)]\n",
    "\n",
    "#We have 168 rows of duplicate data\n",
    "dup_df"
   ]
  },
  {
   "cell_type": "code",
   "execution_count": 63,
   "metadata": {
    "collapsed": false
   },
   "outputs": [],
   "source": [
    "#some of these seem to have been read incorrectly from the csv (what really happened was that Austin's data for address\n",
    "#included commas, making the frame get read offset). We can filter these out by noticing that if \"animal_type\" isn't \n",
    "#actually an animal, something has gone wrong, and we can drop those.\n",
    "\n",
    "descrip.animal_type.value_counts()\n",
    "animal_types = ['Dog','Cat','Other','Bird','Livestock']\n",
    "descrip = descrip[descrip.animal_type.isin(animal_types)]"
   ]
  },
  {
   "cell_type": "code",
   "execution_count": 64,
   "metadata": {
    "collapsed": false
   },
   "outputs": [
    {
     "name": "stdout",
     "output_type": "stream",
     "text": [
      "35450\n"
     ]
    }
   ],
   "source": [
    "#Recheck the data for duplicates\n",
    "counts = descrip.id.value_counts()\n",
    "duplicates = counts[counts > 1].index.tolist()\n",
    "dup_df = descrip[descrip['id'].isin(duplicates)]\n",
    "print len(dup_df)\n",
    "\n",
    "#Now we only have 72 duplicate rows"
   ]
  },
  {
   "cell_type": "code",
   "execution_count": 65,
   "metadata": {
    "collapsed": false
   },
   "outputs": [
    {
     "name": "stdout",
     "output_type": "stream",
     "text": [
      "20060\n"
     ]
    }
   ],
   "source": [
    "#Some of the duplicates are because the animal's name has an asterisk in one row. We can deal with this by removing\n",
    "#all the asterisks from animals names.\n",
    "\n",
    "descrip['Name'] = descrip['Name'].apply(lambda x: x.replace('*',''))\n",
    "descrip.drop_duplicates(inplace=True)\n",
    "\n",
    "#Recheck the data for duplicates\n",
    "counts = descrip.id.value_counts()\n",
    "duplicates = counts[counts > 1].index.tolist()\n",
    "dup_df = descrip[descrip['id'].isin(duplicates)]\n",
    "print len(dup_df)\n",
    "\n",
    "#This only got rid of 2 rows, but now we're down to 70."
   ]
  },
  {
   "cell_type": "code",
   "execution_count": 66,
   "metadata": {
    "collapsed": false
   },
   "outputs": [],
   "source": [
    "#We could keep digging, but down to 70 duplicates out of the original 18,000, it's better just to drop them\n",
    "descrip = descrip[~descrip['id'].isin(duplicates)]"
   ]
  },
  {
   "cell_type": "markdown",
   "metadata": {},
   "source": [
    "## Part 3: Examine the Descriptive Data"
   ]
  },
  {
   "cell_type": "markdown",
   "metadata": {},
   "source": [
    "- How many animal types are there? What are they? "
   ]
  },
  {
   "cell_type": "code",
   "execution_count": 67,
   "metadata": {
    "collapsed": false
   },
   "outputs": [
    {
     "data": {
      "text/plain": [
       "Dog          4640\n",
       "Cat          3427\n",
       "Other         154\n",
       "Bird           14\n",
       "Livestock       1\n",
       "Name: animal_type, dtype: int64"
      ]
     },
     "execution_count": 67,
     "metadata": {},
     "output_type": "execute_result"
    }
   ],
   "source": [
    "descrip.animal_type.value_counts()"
   ]
  },
  {
   "cell_type": "markdown",
   "metadata": {},
   "source": [
    "- Make a bar chart showing the distribution of how many animals are in each animal type category"
   ]
  },
  {
   "cell_type": "code",
   "execution_count": 68,
   "metadata": {
    "collapsed": false
   },
   "outputs": [
    {
     "data": {
      "text/plain": [
       "<matplotlib.axes._subplots.AxesSubplot at 0x115df03d0>"
      ]
     },
     "execution_count": 68,
     "metadata": {},
     "output_type": "execute_result"
    },
    {
     "data": {
      "image/png": "[encoded data removed]",
      "text/plain": [
       "<matplotlib.figure.Figure at 0x111f75b90>"
      ]
     },
     "metadata": {},
     "output_type": "display_data"
    }
   ],
   "source": [
    "descrip.animal_type.value_counts().plot(kind='bar')"
   ]
  },
  {
   "cell_type": "markdown",
   "metadata": {},
   "source": [
    "- Make a list of all the unique breeds for each animal type (one list for dogs, one list for cats, etc.)"
   ]
  },
  {
   "cell_type": "code",
   "execution_count": 73,
   "metadata": {
    "collapsed": false,
    "scrolled": true
   },
   "outputs": [
    {
     "name": "stdout",
     "output_type": "stream",
     "text": [
      "{'Dog': ['Labrador Retriever', 'Basset Hound', 'Dogue De Bordeaux Mix', 'Chihuahua Longhair Mix', 'Pit Bull Mix', 'Soft Coated Wheaten Terrier Mix', 'German Shepherd Mix', 'Carolina Dog Mix', 'Dachshund Longhair', 'Cairn Terrier', 'Labrador Retriever Mix', 'American Staffordshire Terrier Mix', 'Airedale Terrier Mix', 'Miniature Schnauzer Mix', 'Border Terrier Mix', 'German Shepherd', 'Border Collie', 'Border Collie Mix', 'Bruss Griffon Mix', 'German Shorthair Pointer', 'Jack Russell Terrier Mix', 'Cairn Terrier Mix', 'Miniature Poodle Mix', 'Plott Hound', 'Chihuahua Shorthair Mix', 'Boxer Mix', 'Doberman Pinsch Mix', 'American Pit Bull Terrier Mix', 'Bulldog Mix', 'Yorkshire Terrier', 'Chihuahua Shorthair', 'Catahoula Mix', 'Dachshund Longhair Mix', 'Yorkshire Terrier Mix', 'Dachshund Wirehair', 'Border Terrier', 'St. Bernard Smooth Coat Mix', 'Chinese Crested Mix', 'Australian Shepherd Mix', 'Norfolk Terrier Mix', 'Shih Tzu Mix', 'Pointer', 'Akita', 'Pointer Mix', 'Pembroke Welsh Corgi', 'Maltese', 'Miniature Poodle', 'Miniature Pinscher', 'Australian Cattle Dog Mix', 'Plott Hound Mix', 'Collie Smooth Mix', 'Miniature Pinscher Mix', 'Pit Bull', 'Manchester Terrier', 'Beagle', 'Standard Schnauzer', 'Soft Coated Wheaten Terrier', 'Basenji', 'Dachshund', 'Boston Terrier Mix', 'Beagle Mix', 'Queensland Heeler Mix', 'Standard Schnauzer Mix', 'Rottweiler', 'Boxer', 'Black Mouth Cur Mix', 'American Bulldog Mix', 'Dalmatian', 'American Foxhound', 'Belgian Malinois Mix', 'Leonberger Mix', 'Australian Kelpie Mix', 'Presa Canario Mix', 'Catahoula', 'Cocker Spaniel Mix', 'Rhod Ridgeback Mix', 'Rat Terrier Mix', 'Siberian Husky Mix', 'Dachshund Mix', 'West Highland Mix', 'Rhod Ridgeback', 'Bullmastiff', 'Schnauzer Giant', 'Great Pyrenees Mix', 'Rottweiler Mix', 'Shih Tzu', 'Boston Terrier', 'Staffordshire', 'Parson Russell Terrier', 'Pug Mix', 'Treeing Cur Mix', 'Belgian Sheepdog Mix', 'Norwich Terrier Mix', 'Jack Russell Terrier', 'Feist Mix', 'Cardigan Welsh Corgi', 'Golden Retriever', 'Maltese Mix', 'Australian Shepherd', 'Toy Poodle Mix', 'English Foxhound Mix', 'Rat Terrier', 'American Pit Bull Terrier', 'Weimaraner Mix', 'Pembroke Welsh Corgi Mix', 'Saluki', 'Whippet Mix', 'Irish Setter', 'Australian Kelpie', 'Blue Lacy', 'Mastiff Mix', 'Australian Cattle Dog', 'Anatol Shepherd', 'Pug', 'Landseer Mix', 'Dachshund Wirehair Mix', 'Anatol Shepherd Mix', 'Cardigan Welsh Corgi Mix', 'Collie Rough Mix', 'Blue Lacy Mix', 'American Staffordshire Terrier', 'West Highland', 'Norfolk Terrier', 'Dalmatian Mix', 'Miniature Schnauzer', 'Queensland Heeler', 'Black Mouth Cur', 'Chow Chow', 'Black', 'Tan Hound', 'Chinese Sharpei', 'Siberian Husky', 'Flat Coat Retriever', 'English Bulldog Mix', 'French Bulldog', 'Redbone Hound Mix', 'Swiss Hound', 'Harrier', 'Flat Coat Retriever Mix', 'Golden Retriever Mix', 'Chihuahua Longhair', 'Manchester Terrier Mix', 'Greyhound', 'Pomeranian Mix', 'Wire Hair Fox Terrier Mix', 'Bloodhound', 'Weimaraner', 'Shiba Inu', 'Wire Hair Fox Terrier', 'Parson Russell Terrier Mix', 'Staffordshire Mix', 'Irish Terrier Mix', 'Bluetick Hound Mix', 'Toy Poodle', 'Basset Hound Mix', 'Lhasa Apso Mix', 'Patterdale Terr Mix', 'Old English Bulldog Mix', 'Standard Poodle Mix', 'Shetland Sheepdog Mix', 'English Springer Spaniel', 'Collie Smooth', 'English Bulldog', 'Bullmastiff Mix', 'Toy Fox Terrier Mix', 'Tibetan Spaniel Mix', 'American Bulldog', 'Cocker Spaniel', 'Bernese Mountain Dog', 'Tan Hound Mix', 'Schipperke', 'Pekingese Mix', 'Bull Terrier', 'Cane Corso Mix', 'Great Pyrenees', 'English Shepherd Mix', 'Smooth Fox Terrier Mix', 'Carolina Dog', 'Lhasa Apso', 'Alaskan Malamute', 'Schipperke Mix', 'Standard Poodle', 'Podengo Pequeno Mix', 'Welsh Terrier Mix', 'Pbgv', 'Chow Chow Mix', 'Alaskan Husky', 'Great Dane', 'Cavalier Span', 'Whippet', 'Shetland Sheepdog', 'Redbone Hound', 'Vizsla', 'Dogo Argentino Mix', 'Italian Greyhound Mix', 'Italian Greyhound', 'Bernese Mountain Dog Mix', 'Alaskan Husky Mix', 'Doberman Pinsch', 'Chinese Sharpei Mix', 'Bull Terrier Mix', 'Mastiff', 'Affenpinscher', 'Smooth Fox Terrier', 'Otterhound Mix', 'Samoyed Mix', 'Shiba Inu Mix', 'Beauceron Mix', 'Unknown Mix', 'Bichon Frise', 'Norwich Terrier', 'English Coonhound Mix', 'Pekingese', 'Pharaoh Hound Mix', 'French Bulldog Mix', 'German Wirehaired Pointer', 'Bluetick Hound', 'Treeing Walker Coonhound', 'Welsh Terrier', 'Finnish Spitz', 'Harrier Mix', 'English Pointer Mix', 'English Setter Mix', 'Dutch Shepherd Mix', 'Swedish Vallhund Mix', 'English Foxhound', 'Papillon Mix', 'Canaan Dog', 'Silky Terrier Mix', 'German Shorthair Pointer Mix', 'Nova Scotia Duck Tolling Retriever', 'Pomeranian', 'Bloodhound Mix', 'St. Bernard Rough Coat Mix', 'Havanese Mix', 'Finnish Spitz Mix', 'Chinese Crested', 'Old English Bulldog', 'Boerboel Mix', 'Belgian Malinois', 'Jindo', 'Australian Terrier Mix', 'Collie Rough', 'Bichon Frise Mix', 'Dachshund Stan Mix', 'American Eskimo', 'Keeshond Mix', 'Brittany', 'Beauceron', 'Airedale Terrier', 'Basenji Mix', 'Glen Of Imaal', 'Ibizan Hound', 'Schnauzer Giant Mix', 'German Wirehaired Pointer Mix', 'Newfoundland Mix', 'Cavalier Span Mix', 'Great Dane Mix', 'Nova Scotia Duck Tolling Retriever Mix', 'English Springer Spaniel Mix', 'Treeing Walker Coonhound Mix', 'St. Bernard Rough Coat', 'Vizsla Mix', 'Havanese', 'Swedish Vallhund', 'Boerboel', 'Greyhound Mix', 'Silky Terrier', 'Bruss Griffon', 'Mexican Hairless Mix', 'Papillon', 'Belgian Tervuren', 'Skye Terrier', 'Cane Corso', 'Bearded Collie', 'Chesa Bay Retr Mix', 'English Coonhound', 'Patterdale Terr', 'Toy Fox Terrier', 'Dogo Argentino', 'Dutch Shepherd', 'Field Spaniel Mix'], 'Livestock': ['Pig Mix'], 'Other': ['Bat', 'Bat Mix', 'Guinea Pig Mix', 'Skunk Mix', 'Squirrel Mix', 'Ferret Mix', 'Opossum Mix', 'Lionhead Mix', 'Guinea Pig', 'New Zealand Wht Mix', 'Skunk', 'Hamster Mix', 'Hotot Mix', 'Raccoon Mix', 'Raccoon', 'Squirrel', 'Rabbit Sh', 'Californian Mix', 'Opossum', 'Angora-French Mix', 'Rabbit Sh Mix', 'Fox Mix', 'Rat Mix', 'Cottontail Mix', 'Dutch Mix', 'Ferret', 'Hamster', 'Rex Mix'], 'Bird': ['Chicken Mix', 'Parakeet', 'Turkey Mix', 'Conure', 'Quaker Mix', 'Chicken', 'Bunting', 'Grackle'], 'Cat': ['Domestic Shorthair Mix', 'Maine Coon Mix', 'Domestic Longhair Mix', 'Domestic Medium Hair Mix', 'Siamese Mix', 'American Shorthair Mix', 'Domestic Shorthair', 'Domestic Medium Hair', 'Japanese Bobtail Mix', 'Manx Mix', 'Snowshoe Mix', 'Devon Rex', 'Domestic Longhair', 'Balinese Mix', 'Snowshoe', 'Tonkinese Mix', 'Himalayan Mix', 'Chartreux Mix', 'Russian Blue Mix', 'Turkish Van Mix', 'Manx', 'Siamese', 'Himalayan', 'British Shorthair Mix', 'American Wirehair Mix', 'Ragdoll Mix', 'Maine Coon', 'Oriental Sh Mix', 'Bombay Mix', 'Persian Mix', 'Abyssinian Mix', 'Bengal Mix', 'Javanese Mix', 'Havana Brown Mix', 'Cornish Rex Mix', 'Cymric Mix', 'Devon Rex Mix', 'Persian', 'Pixiebob Shorthair Mix']}\n"
     ]
    }
   ],
   "source": [
    "animal_types = ['Bird','Cat','Dog','Livestock','Other']\n",
    "\n",
    "breeds = {}\n",
    "for species in animal_types:\n",
    "    breedlist = []\n",
    "    for x in descrip[descrip.animal_type == species].Breed.unique():\n",
    "        x = x.replace('[','').replace(']','').replace(\"'\",'').split(', ')\n",
    "        for item in x:\n",
    "            if item not in breedlist:\n",
    "                breedlist.append(item)\n",
    "    breeds[species] = breedlist\n",
    "    \n",
    "print breeds"
   ]
  },
  {
   "cell_type": "markdown",
   "metadata": {},
   "source": [
    "- For each animal type, make a pie chart showing the distribution of sex"
   ]
  },
  {
   "cell_type": "code",
   "execution_count": 70,
   "metadata": {
    "collapsed": false
   },
   "outputs": [
    {
     "data": {
      "image/png": "[encoded data removed]",
      "text/plain": [
       "<matplotlib.figure.Figure at 0x114ef4dd0>"
      ]
     },
     "metadata": {},
     "output_type": "display_data"
    },
    {
     "data": {
      "image/png": "[encoded data removed]",
      "text/plain": [
       "<matplotlib.figure.Figure at 0x117293090>"
      ]
     },
     "metadata": {},
     "output_type": "display_data"
    },
    {
     "data": {
      "image/png": "[encoded data removed]",
      "text/plain": [
       "<matplotlib.figure.Figure at 0x1186285d0>"
      ]
     },
     "metadata": {},
     "output_type": "display_data"
    },
    {
     "data": {
      "image/png": "[encoded data removed]",
      "text/plain": [
       "<matplotlib.figure.Figure at 0x117eccb50>"
      ]
     },
     "metadata": {},
     "output_type": "display_data"
    },
    {
     "data": {
      "image/png": "[encoded data removed]",
      "text/plain": [
       "<matplotlib.figure.Figure at 0x115cbb1d0>"
      ]
     },
     "metadata": {},
     "output_type": "display_data"
    }
   ],
   "source": [
    "for item in descrip.animal_type.unique().tolist():\n",
    "    data = descrip[descrip.animal_type == item].sex.value_counts()\n",
    "    fig = data.plot(kind='pie', title=item, cmap='Blues', figsize=(4,4))\n",
    "    plt.show()"
   ]
  },
  {
   "cell_type": "markdown",
   "metadata": {},
   "source": [
    "#### Challenge Goal\n",
    "- Get a list of unique colors\n",
    "- Create a new dataframe with the number of animals of each color\n",
    "- Plot this information\n",
    "- EXTRA BONUS: Make each plot correspond to the color it represents!"
   ]
  },
  {
   "cell_type": "code",
   "execution_count": 79,
   "metadata": {
    "collapsed": false
   },
   "outputs": [
    {
     "data": {
      "text/plain": [
       "['Black',\n",
       " 'White',\n",
       " 'Red',\n",
       " 'Brown Tabby',\n",
       " 'Torbie',\n",
       " 'Blue',\n",
       " 'Tan',\n",
       " 'Brown',\n",
       " 'Chocolate',\n",
       " 'Gray',\n",
       " 'Orange Tabby',\n",
       " 'Tricolor',\n",
       " 'Tortie',\n",
       " 'Liver Tick',\n",
       " 'Silver',\n",
       " 'Apricot',\n",
       " 'Brown Brindle',\n",
       " 'Orange',\n",
       " 'Sable',\n",
       " 'Calico',\n",
       " 'Blue Tabby',\n",
       " 'Black Smoke',\n",
       " 'Blue Tick',\n",
       " 'Red Tick',\n",
       " 'Blue Merle',\n",
       " 'Brown Merle',\n",
       " 'Buff',\n",
       " 'Seal Point',\n",
       " 'Fawn',\n",
       " 'Yellow',\n",
       " 'Blue Tiger',\n",
       " 'Cream Tabby',\n",
       " 'Cream',\n",
       " 'Black Tabby',\n",
       " 'Chocolate Point',\n",
       " 'Yellow Brindle',\n",
       " 'Silver Tabby',\n",
       " 'Lilac Point',\n",
       " 'Lynx Point',\n",
       " 'Tortie Point',\n",
       " 'Blue Point',\n",
       " 'Black Brindle',\n",
       " 'Gold',\n",
       " 'Red Merle',\n",
       " 'Gray Tabby',\n",
       " 'Liver',\n",
       " 'Flame Point',\n",
       " 'Green',\n",
       " 'Agouti',\n",
       " 'Blue Cream',\n",
       " 'Calico Point',\n",
       " 'Pink']"
      ]
     },
     "execution_count": 79,
     "metadata": {},
     "output_type": "execute_result"
    }
   ],
   "source": [
    "colors = []\n",
    "for item in descrip.Color.unique():\n",
    "    itemlist = item.replace(\"[\",'').replace(\"]\",'').replace(\"'\",'').split(\", \")\n",
    "    for color in itemlist:\n",
    "        if color not in colors:\n",
    "            colors.append(color)\n",
    "            \n",
    "colors"
   ]
  },
  {
   "cell_type": "code",
   "execution_count": 112,
   "metadata": {
    "collapsed": false
   },
   "outputs": [
    {
     "data": {
      "text/html": [
       "<div>\n",
       "<table border=\"1\" class=\"dataframe\">\n",
       "  <thead>\n",
       "    <tr style=\"text-align: right;\">\n",
       "      <th></th>\n",
       "      <th>count</th>\n",
       "    </tr>\n",
       "  </thead>\n",
       "  <tbody>\n",
       "    <tr>\n",
       "      <th>Agouti</th>\n",
       "      <td>3</td>\n",
       "    </tr>\n",
       "    <tr>\n",
       "      <th>Apricot</th>\n",
       "      <td>8</td>\n",
       "    </tr>\n",
       "    <tr>\n",
       "      <th>Black</th>\n",
       "      <td>2504</td>\n",
       "    </tr>\n",
       "    <tr>\n",
       "      <th>Black Brindle</th>\n",
       "      <td>46</td>\n",
       "    </tr>\n",
       "    <tr>\n",
       "      <th>Black Smoke</th>\n",
       "      <td>23</td>\n",
       "    </tr>\n",
       "    <tr>\n",
       "      <th>Black Tabby</th>\n",
       "      <td>12</td>\n",
       "    </tr>\n",
       "    <tr>\n",
       "      <th>Blue</th>\n",
       "      <td>748</td>\n",
       "    </tr>\n",
       "    <tr>\n",
       "      <th>Blue Cream</th>\n",
       "      <td>3</td>\n",
       "    </tr>\n",
       "    <tr>\n",
       "      <th>Blue Merle</th>\n",
       "      <td>58</td>\n",
       "    </tr>\n",
       "    <tr>\n",
       "      <th>Blue Point</th>\n",
       "      <td>12</td>\n",
       "    </tr>\n",
       "    <tr>\n",
       "      <th>Blue Tabby</th>\n",
       "      <td>235</td>\n",
       "    </tr>\n",
       "    <tr>\n",
       "      <th>Blue Tick</th>\n",
       "      <td>16</td>\n",
       "    </tr>\n",
       "    <tr>\n",
       "      <th>Blue Tiger</th>\n",
       "      <td>7</td>\n",
       "    </tr>\n",
       "    <tr>\n",
       "      <th>Brown</th>\n",
       "      <td>2137</td>\n",
       "    </tr>\n",
       "    <tr>\n",
       "      <th>Brown Brindle</th>\n",
       "      <td>279</td>\n",
       "    </tr>\n",
       "    <tr>\n",
       "      <th>Brown Merle</th>\n",
       "      <td>20</td>\n",
       "    </tr>\n",
       "    <tr>\n",
       "      <th>Brown Tabby</th>\n",
       "      <td>851</td>\n",
       "    </tr>\n",
       "    <tr>\n",
       "      <th>Buff</th>\n",
       "      <td>83</td>\n",
       "    </tr>\n",
       "    <tr>\n",
       "      <th>Calico</th>\n",
       "      <td>164</td>\n",
       "    </tr>\n",
       "    <tr>\n",
       "      <th>Calico Point</th>\n",
       "      <td>5</td>\n",
       "    </tr>\n",
       "    <tr>\n",
       "      <th>Chocolate</th>\n",
       "      <td>152</td>\n",
       "    </tr>\n",
       "    <tr>\n",
       "      <th>Chocolate Point</th>\n",
       "      <td>8</td>\n",
       "    </tr>\n",
       "    <tr>\n",
       "      <th>Cream</th>\n",
       "      <td>176</td>\n",
       "    </tr>\n",
       "    <tr>\n",
       "      <th>Cream Tabby</th>\n",
       "      <td>90</td>\n",
       "    </tr>\n",
       "    <tr>\n",
       "      <th>Fawn</th>\n",
       "      <td>68</td>\n",
       "    </tr>\n",
       "    <tr>\n",
       "      <th>Flame Point</th>\n",
       "      <td>17</td>\n",
       "    </tr>\n",
       "    <tr>\n",
       "      <th>Gold</th>\n",
       "      <td>17</td>\n",
       "    </tr>\n",
       "    <tr>\n",
       "      <th>Gray</th>\n",
       "      <td>122</td>\n",
       "    </tr>\n",
       "    <tr>\n",
       "      <th>Gray Tabby</th>\n",
       "      <td>10</td>\n",
       "    </tr>\n",
       "    <tr>\n",
       "      <th>Green</th>\n",
       "      <td>7</td>\n",
       "    </tr>\n",
       "    <tr>\n",
       "      <th>Lilac Point</th>\n",
       "      <td>12</td>\n",
       "    </tr>\n",
       "    <tr>\n",
       "      <th>Liver</th>\n",
       "      <td>8</td>\n",
       "    </tr>\n",
       "    <tr>\n",
       "      <th>Liver Tick</th>\n",
       "      <td>3</td>\n",
       "    </tr>\n",
       "    <tr>\n",
       "      <th>Lynx Point</th>\n",
       "      <td>59</td>\n",
       "    </tr>\n",
       "    <tr>\n",
       "      <th>Orange</th>\n",
       "      <td>455</td>\n",
       "    </tr>\n",
       "    <tr>\n",
       "      <th>Orange Tabby</th>\n",
       "      <td>426</td>\n",
       "    </tr>\n",
       "    <tr>\n",
       "      <th>Pink</th>\n",
       "      <td>6</td>\n",
       "    </tr>\n",
       "    <tr>\n",
       "      <th>Red</th>\n",
       "      <td>280</td>\n",
       "    </tr>\n",
       "    <tr>\n",
       "      <th>Red Merle</th>\n",
       "      <td>19</td>\n",
       "    </tr>\n",
       "    <tr>\n",
       "      <th>Red Tick</th>\n",
       "      <td>12</td>\n",
       "    </tr>\n",
       "    <tr>\n",
       "      <th>Sable</th>\n",
       "      <td>103</td>\n",
       "    </tr>\n",
       "    <tr>\n",
       "      <th>Seal Point</th>\n",
       "      <td>53</td>\n",
       "    </tr>\n",
       "    <tr>\n",
       "      <th>Silver</th>\n",
       "      <td>31</td>\n",
       "    </tr>\n",
       "    <tr>\n",
       "      <th>Silver Tabby</th>\n",
       "      <td>7</td>\n",
       "    </tr>\n",
       "    <tr>\n",
       "      <th>Tan</th>\n",
       "      <td>896</td>\n",
       "    </tr>\n",
       "    <tr>\n",
       "      <th>Torbie</th>\n",
       "      <td>107</td>\n",
       "    </tr>\n",
       "    <tr>\n",
       "      <th>Tortie</th>\n",
       "      <td>209</td>\n",
       "    </tr>\n",
       "    <tr>\n",
       "      <th>Tortie Point</th>\n",
       "      <td>10</td>\n",
       "    </tr>\n",
       "    <tr>\n",
       "      <th>Tricolor</th>\n",
       "      <td>272</td>\n",
       "    </tr>\n",
       "    <tr>\n",
       "      <th>White</th>\n",
       "      <td>3797</td>\n",
       "    </tr>\n",
       "    <tr>\n",
       "      <th>Yellow</th>\n",
       "      <td>77</td>\n",
       "    </tr>\n",
       "    <tr>\n",
       "      <th>Yellow Brindle</th>\n",
       "      <td>10</td>\n",
       "    </tr>\n",
       "  </tbody>\n",
       "</table>\n",
       "</div>"
      ],
      "text/plain": [
       "                 count\n",
       "Agouti               3\n",
       "Apricot              8\n",
       "Black             2504\n",
       "Black Brindle       46\n",
       "Black Smoke         23\n",
       "Black Tabby         12\n",
       "Blue               748\n",
       "Blue Cream           3\n",
       "Blue Merle          58\n",
       "Blue Point          12\n",
       "Blue Tabby         235\n",
       "Blue Tick           16\n",
       "Blue Tiger           7\n",
       "Brown             2137\n",
       "Brown Brindle      279\n",
       "Brown Merle         20\n",
       "Brown Tabby        851\n",
       "Buff                83\n",
       "Calico             164\n",
       "Calico Point         5\n",
       "Chocolate          152\n",
       "Chocolate Point      8\n",
       "Cream              176\n",
       "Cream Tabby         90\n",
       "Fawn                68\n",
       "Flame Point         17\n",
       "Gold                17\n",
       "Gray               122\n",
       "Gray Tabby          10\n",
       "Green                7\n",
       "Lilac Point         12\n",
       "Liver                8\n",
       "Liver Tick           3\n",
       "Lynx Point          59\n",
       "Orange             455\n",
       "Orange Tabby       426\n",
       "Pink                 6\n",
       "Red                280\n",
       "Red Merle           19\n",
       "Red Tick            12\n",
       "Sable              103\n",
       "Seal Point          53\n",
       "Silver              31\n",
       "Silver Tabby         7\n",
       "Tan                896\n",
       "Torbie             107\n",
       "Tortie             209\n",
       "Tortie Point        10\n",
       "Tricolor           272\n",
       "White             3797\n",
       "Yellow              77\n",
       "Yellow Brindle      10"
      ]
     },
     "execution_count": 112,
     "metadata": {},
     "output_type": "execute_result"
    }
   ],
   "source": [
    "animal_colors = pd.DataFrame(colors, columns=['Color'])\n",
    "\n",
    "from collections import Counter\n",
    "\n",
    "count = Counter(descrip.Color)\n",
    "\n",
    "unique_colors = {}\n",
    "for item in animal_colors.Color:\n",
    "    for key in count:\n",
    "        if item not in unique_colors:\n",
    "            unique_colors[item] = count[key]\n",
    "        if item in key: \n",
    "            unique_colors[item] += count[key]\n",
    "            \n",
    "            \n",
    "colors_df = pd.DataFrame(unique_colors, index=[0]).transpose()\n",
    "colors_df.rename(columns={0:'count'}, inplace=True)\n",
    "colors_df"
   ]
  },
  {
   "cell_type": "markdown",
   "metadata": {},
   "source": [
    "## Part 4: CHALLENGE - Create Timelines "
   ]
  },
  {
   "cell_type": "markdown",
   "metadata": {},
   "source": [
    "- Create a new data frame from intakes showing the animal id, intake time, intake type, intake condition, age upon intake, and sex upon intake\n",
    "- Do the same for outcomes (instead of intake condition, use outcome subtype)"
   ]
  },
  {
   "cell_type": "code",
   "execution_count": null,
   "metadata": {
    "collapsed": true
   },
   "outputs": [],
   "source": []
  },
  {
   "cell_type": "markdown",
   "metadata": {},
   "source": [
    "- Create a single data frame that is chronological showing all intakes and outcomes, then sort this by animal ID (You should be able to make out a story for each individual by doing this)\n",
    "- Consider: Why aren't we just merging on animal ID? "
   ]
  },
  {
   "cell_type": "code",
   "execution_count": null,
   "metadata": {
    "collapsed": true
   },
   "outputs": [],
   "source": []
  },
  {
   "cell_type": "markdown",
   "metadata": {},
   "source": [
    "- Condense this data frame so that for each intake, the same row shows the corresponding outcome for that animal (you may need to drop some information if there is not an even match between intakes and outcomes)"
   ]
  },
  {
   "cell_type": "code",
   "execution_count": null,
   "metadata": {
    "collapsed": true
   },
   "outputs": [],
   "source": []
  },
  {
   "cell_type": "markdown",
   "metadata": {},
   "source": [
    "Answer the following questions: \n",
    "- How long do animals spend in the shelter on average? \n",
    "- How many animals were \"fixed\" (Spayed or Neutered) in care? "
   ]
  },
  {
   "cell_type": "code",
   "execution_count": null,
   "metadata": {
    "collapsed": true
   },
   "outputs": [],
   "source": []
  },
  {
   "cell_type": "markdown",
   "metadata": {},
   "source": [
    "## Part 5: CHALLENGE - Examine the Intake/Outcome Data"
   ]
  },
  {
   "cell_type": "markdown",
   "metadata": {},
   "source": [
    "- What outcome is the most likely for each intake type? For each intake condition?\n",
    "- Does being male or female affect the outcome? \n",
    "- What are the most common outcomes for each animal type?\n",
    "- What are the most likely outcome subtypes for each outcome type?"
   ]
  },
  {
   "cell_type": "code",
   "execution_count": null,
   "metadata": {
    "collapsed": true
   },
   "outputs": [],
   "source": []
  }
 ],
 "metadata": {
  "kernelspec": {
   "display_name": "Python 2",
   "language": "python",
   "name": "python2"
  },
  "language_info": {
   "codemirror_mode": {
    "name": "ipython",
    "version": 2
   },
   "file_extension": ".py",
   "mimetype": "text/x-python",
   "name": "python",
   "nbconvert_exporter": "python",
   "pygments_lexer": "ipython2",
   "version": "2.7.11"
  }
 },
 "nbformat": 4,
 "nbformat_minor": 0
}
